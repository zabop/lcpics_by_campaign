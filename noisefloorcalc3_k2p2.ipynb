{
 "cells": [
  {
   "cell_type": "code",
   "execution_count": 1,
   "metadata": {},
   "outputs": [],
   "source": [
    "import glob\n",
    "import numpy as np\n",
    "from astropy.io import fits\n",
    "import pandas as pd\n",
    "from astropy.stats import LombScargle"
   ]
  },
  {
   "cell_type": "code",
   "execution_count": 2,
   "metadata": {},
   "outputs": [],
   "source": [
    "import sys\n",
    "terminalpythonpath=['', '/home/szabopal/PycharmProjects/venv36/lib/python36.zip', '/home/szabopal/PycharmProjects/venv36/lib/python3.6', '/home/szabopal/PycharmProjects/venv36/lib/python3.6/lib-dynload', '/usr/lib/python3.6', '/home/szabopal/PycharmProjects/venv36/lib/python3.6/site-packages']\n",
    "[sys.path.append(each) for each in terminalpythonpath]\n",
    "import matplotlib.pyplot as plt"
   ]
  },
  {
   "cell_type": "code",
   "execution_count": 3,
   "metadata": {},
   "outputs": [],
   "source": [
    "import matplotlib.gridspec as gridspec"
   ]
  },
  {
   "cell_type": "code",
   "execution_count": 4,
   "metadata": {},
   "outputs": [],
   "source": [
    "def massAAPreader(ID, campaign):\n",
    "    \n",
    "    try:\n",
    "\n",
    "        #lcfile=glob.glob('../../GO*/*'+target.split('/')[-1].split('_')[0][4:]+'*k2sc.lc');\n",
    "        lcfile=glob.glob('../../GO*/ktwo'+str(ID)+'-c'+campaign+'_lpd-targ.fits_massAAP_lc_TH8_k2sc.lc')[0]\n",
    "\n",
    "       # if len(lcfile)==0:\n",
    "       #     massAAP_k2sc_corr_flux = massAAP(each,True)\n",
    "       #     lcfile=glob.glob('../../GO*/*'+target.split('/')[-1].split('_')[0][4:]+'*k2sc.lc')\n",
    "\n",
    "        #print(lcfile)\n",
    "        lc=np.genfromtxt(lcfile,delimiter=' ',skip_header=1)\n",
    "        massAAPreader.lc=lc\n",
    "        bjd=lc[:,0]\n",
    "        flux=lc[:,1]\n",
    "\n",
    "        \n",
    "        return bjd, flux\n",
    "    \n",
    "    except IndexError:\n",
    "        \n",
    "        return False, False"
   ]
  },
  {
   "cell_type": "code",
   "execution_count": 5,
   "metadata": {},
   "outputs": [],
   "source": [
    "def k2sffreader(ID, campaign):\n",
    "    \n",
    "    try:\n",
    "\n",
    "        k2sfffile = 'K2SFF_LCs_from_MAST_via_file_upload_form_2/hlsp_k2sff_k2_lightcurve_'+str(ID)+'-c'+campaign+'_kepler_v1_llc.fits'\n",
    "        print(k2sfffile)\n",
    "        \n",
    "      #  if 'c102' in target:\n",
    "      #      k2sfffile ='hlsp_k2sff_k2_lightcurve_'+target.split('/')[-1][4:19]+'kepler_v1_llc.fits'\n",
    "      #  else:\n",
    "      #      k2sfffile ='hlsp_k2sff_k2_lightcurve_'+target.split('/')[-1][4:18]+'kepler_v1_llc.fits'\n",
    "\n",
    "  #      hdul = fits.open('K2SFF_LCs_from_MAST_via_file_upload_form/'+k2sfffile)\n",
    "         \n",
    "  #      data=hdul[1].data\n",
    "    \n",
    "        data = fits.getdata(k2sfffile, ext=1)\n",
    "        \n",
    "#        k2sff_time=hdul[1].data['T']\n",
    "#        k2sff_fcor=hdul[1].data['FCOR']\n",
    "#        k2sff_fraw=hdul[1].data['FRAW']\n",
    "\n",
    "        k2sff_time=data['T']\n",
    "        k2sff_fcor=data['FCOR']\n",
    "        k2sff_fraw=data['FRAW']\n",
    "\n",
    "        \n",
    "        del data\n",
    "       # hdul.close()\n",
    "    \n",
    "\n",
    "\n",
    "        return k2sff_time, k2sff_fcor, k2sff_fraw\n",
    "    \n",
    "    except FileNotFoundError:\n",
    "        \n",
    "        return False, False, False"
   ]
  },
  {
   "cell_type": "code",
   "execution_count": 6,
   "metadata": {},
   "outputs": [],
   "source": [
    "def K2SCzett_SAPandPDCMAPreader(ID, campaign):\n",
    "    \n",
    "    try:\n",
    "\n",
    "        k2scfile = 'hlsp_k2sc_k2_llc_'+str(ID)+'-c'+campaign+'_kepler_v2_lc.fits'\n",
    "\n",
    "      #  if 'c102' in target:\n",
    "      #      k2scfile='hlsp_k2sc_k2_llc_'+target.split('/')[-1][4:19]+'kepler_v2_lc.fits'\n",
    "      #  else:\n",
    "      #      k2scfile='hlsp_k2sc_k2_llc_'+target.split('/')[-1][4:18]+'kepler_v2_lc.fits'\n",
    "\n",
    "        #hdul=fits.open(k2scfile)\n",
    "\n",
    "        \n",
    "        \n",
    "        #data=hdul[1].data\n",
    "        \n",
    "        data_ext1 = fits.getdata(k2scfile, ext=1)\n",
    "        data_ext2 = fits.getdata(k2scfile, ext=2)\n",
    "        \n",
    "        k2sc_saptime=data_ext1['TIME'][[data_ext1['quality']][0]==0]    \n",
    "        k2sc_sapflux=(data_ext1['flux']+data_ext1['trtime']-np.nanmedian(data_ext1['trtime']))[data_ext1['quality'] == 0]\n",
    "\n",
    "        k2sc_pdcsaptime=data_ext2['TIME'][data_ext2['quality']==0]\n",
    "        k2sc_pdcsapflux=(data_ext2['flux']+data_ext2['trtime']-np.nanmedian(data_ext2['trtime']))[data_ext2['quality'] == 0]\n",
    "\n",
    "        #hdul.close()\n",
    "        \n",
    "\n",
    "        k2sc_saptime = k2sc_saptime[~np.isnan(k2sc_sapflux)]\n",
    "        k2sc_sapflux = k2sc_sapflux[~np.isnan(k2sc_sapflux)]\n",
    "        \n",
    "        k2sc_pdcsaptime = k2sc_pdcsaptime[~np.isnan(k2sc_pdcsapflux)]\n",
    "        k2sc_pdcsapflux = k2sc_pdcsapflux[~np.isnan(k2sc_pdcsapflux)]\n",
    "\n",
    "        \n",
    "        return k2sc_saptime, k2sc_sapflux, k2sc_pdcsaptime, k2sc_pdcsapflux\n",
    "    \n",
    "    except FileNotFoundError:\n",
    "        \n",
    "        return False, False, False, False"
   ]
  },
  {
   "cell_type": "code",
   "execution_count": 7,
   "metadata": {},
   "outputs": [],
   "source": [
    "def SAPandPDCMAPreader(ID, campaign):\n",
    "    \n",
    "    try:\n",
    "    \n",
    "        sap_pdcmap_file='SAPandPDCMAPfromMAST/ktwo'+str(ID)+'-c'+campaign+'_llc.fits'\n",
    "\n",
    "      #  if 'c102' in target:\n",
    "      #      sap_pdcmap_file='SAPandPDCMAPfromMAST/ktwo'+target.split('/')[-1][4:19]+'llc.fits'\n",
    "      #  else:\n",
    "      #      sap_pdcmap_file='SAPandPDCMAPfromMAST/ktwo'+target.split('/')[-1][4:18]+'llc.fits'\n",
    "\n",
    "   #     hdul=fits.open(sap_pdcmap_file)\n",
    "   #     data=hdul[1].data\n",
    "\n",
    "        data=fits.getdata(sap_pdcmap_file, ext=1)\n",
    "        \n",
    "        sapflux=data['SAP_FLUX'][data['SAP_QUALITY']==0]\n",
    "        saptime=data['TIME'][data['SAP_QUALITY']==0]\n",
    "\n",
    "        pdcsapflux=data['PDCSAP_FLUX'][data['SAP_QUALITY']==0]\n",
    "        pdcsaptime=data['TIME'][data['SAP_QUALITY']==0]\n",
    "\n",
    "        del data\n",
    "        \n",
    "        pdcsaptime = pdcsaptime[~np.isnan(pdcsapflux)]\n",
    "        pdcsapflux = pdcsapflux[~np.isnan(pdcsapflux)]\n",
    "\n",
    "        saptime = saptime[~np.isnan(sapflux)]\n",
    "        sapflux = sapflux[~np.isnan(sapflux)]\n",
    "\n",
    "        \n",
    "        \n",
    "    #    hdul.close()\n",
    "        return sapflux, saptime, pdcsapflux, pdcsaptime\n",
    "    \n",
    "    except FileNotFoundError:\n",
    "        return False, False, False, False"
   ]
  },
  {
   "cell_type": "code",
   "execution_count": 8,
   "metadata": {},
   "outputs": [],
   "source": [
    "def K2P2reader(ID, campaign):\n",
    "    \n",
    "    try:\n",
    "\n",
    "        #K2P2file=glob.glob('K2P2_attila_scriptjevel/'+target.split('/')[-1].split('_')[0]+'*')[0]\n",
    "\n",
    "        K2P2file='K2P2_attila_scriptjevel/ktwo'+str(ID)+'-c'+campaign+'_llc.dat'\n",
    "\n",
    "        df=pd.read_csv(K2P2file,skiprows=14,header=None,sep=r\"\\s*\",engine='python')\n",
    "        k2p2bjd=df[0][df[5]==0]\n",
    "        k2p2flux=df[3][df[5]==0]\n",
    "\n",
    "        del df\n",
    "        \n",
    "        return k2p2bjd, k2p2flux\n",
    "    \n",
    "    except FileNotFoundError:\n",
    "        \n",
    "        return False, False"
   ]
  },
  {
   "cell_type": "code",
   "execution_count": 9,
   "metadata": {},
   "outputs": [],
   "source": [
    "def everestreader(ID, campaign):\n",
    "    \n",
    "    try:\n",
    "\n",
    "        everestfile='/home/szabopal/PycharmProjects/eap/united/massAAP_atnezo/EVEREST_thirdtrial/hlsp_everest_k2_llc_'+str(ID)+'-c'+campaign+'_kepler_v2.0_lc.fits'\n",
    "\n",
    "        print(everestfile)\n",
    "        print('\\n')\n",
    "        \n",
    "      #  if 'c102' in target:\n",
    "      #      everestfile='hlsp_everest_k2_llc_'+target.split('/')[-1][4:19]+'kepler_v2.0_lc.fits'\n",
    "      #  else:\n",
    "      #      everestfile='hlsp_everest_k2_llc_'+target.split('/')[-1][4:18]+'kepler_v2.0_lc.fits'\n",
    "\n",
    "\n",
    "        #hdul = fits.open('EVEREST_LCs_from_MAST_via_file_upload_form/'+everestfile)\n",
    "        \n",
    "        data=fits.getdata(everestfile, ext=1)\n",
    "\n",
    "        time=data['TIME']\n",
    "        fcor=data['FCOR']\n",
    "        everest_fraw = data['FRAW']\n",
    "        quality=np.where(data['QUALITY']==0)    \n",
    "        \n",
    "        \n",
    "        \n",
    "        #time=hdul[1].data['TIME']\n",
    "        #fcor=hdul[1].data['FCOR']\n",
    "        #everest_fraw = hdul[1].data['FRAW']\n",
    "        #quality=np.where(hdul[1].data['QUALITY']==0)    \n",
    "        #hdul.close()\n",
    "\n",
    "        everest_time=time[quality]\n",
    "        everest_fcor=fcor[quality]\n",
    "\n",
    "        everest_fraw_time=time\n",
    "\n",
    "        del data\n",
    "        \n",
    "        \n",
    "\n",
    "        return everest_time, everest_fcor, everest_fraw_time, everest_fraw\n",
    "    \n",
    "    except FileNotFoundError:\n",
    "        \n",
    "        return False, False, False, False"
   ]
  },
  {
   "cell_type": "code",
   "execution_count": 10,
   "metadata": {},
   "outputs": [],
   "source": [
    "df=pd.read_csv('kp_mag_search.csv')\n",
    "df0=pd.read_csv('k2_search.txt',sep=',')\n",
    "\n",
    "\n",
    "class star:\n",
    "    def __init__(self, ID, campaign):\n",
    "        \n",
    "        self.ID=ID\n",
    "        self.campaign=campaign\n",
    "        \n",
    "        #self.keplermag = float((df[df['EPIC']==str(self.ID)]['KepMag']).values[0])\n",
    "        \n",
    "        self.massaapbjd, self.massaapflux = massAAPreader(self.ID, self.campaign)\n",
    "        \n",
    "        self.k2sff_time, self.k2sff_fcor, self.k2sff_fraw = k2sffreader(self.ID, self.campaign)\n",
    "        self.k2sc_saptime, self.k2sc_sapflux, self.k2sc_pdcsaptime, self.k2sc_pdcsapflux = K2SCzett_SAPandPDCMAPreader(self.ID, self.campaign)\n",
    "        self.sapflux, self.saptime, self.pdcsapflux, self.pdcsaptime = SAPandPDCMAPreader(self.ID, self.campaign)\n",
    "        self.k2p2bjd, self.k2p2flux = K2P2reader(ID, campaign)\n",
    "        self.everest_time, self.everest_fcor, self.everest_fraw_time, self.everest_fraw = everestreader(self.ID, self.campaign)\n",
    "        "
   ]
  },
  {
   "cell_type": "code",
   "execution_count": 11,
   "metadata": {},
   "outputs": [],
   "source": [
    "GO6082targets=glob.glob('../../GO6082/*c06*lpd*targ.fits')\n",
    "GO8037targets=glob.glob('../../GO8037/*c08*lpd*targ.fits')\n",
    "GO10037_1_targets=glob.glob('../../GO10037/*c101*lpd*targ.fits')\n",
    "GO10037_2_targets=glob.glob('../../GO10037/*c102*lpd*targ.fits')\n",
    "GO12111targets=glob.glob('../../GO12111/*c12*lpd*targ.fits')\n",
    "GO13111targets=glob.glob('../../GO13111/*c13*lpd*targ.fits')\n",
    "GO14058targets=glob.glob('../../GO14058/*c14*lpd*targ.fits')\n",
    "GO15058targets=glob.glob('../../GO15058/*c15*lpd*targ.fits')\n",
    "GO16058targets=glob.glob('../../GO16058/*c16*lpd*targ.fits')\n",
    "GO17033targets=glob.glob('../../GO17033/*c17*lpd*targ.fits')\n",
    "GO18033targets=glob.glob('../../GO18033/*c18*lpd*targ.fits')"
   ]
  },
  {
   "cell_type": "code",
   "execution_count": 12,
   "metadata": {},
   "outputs": [],
   "source": [
    "targetlist=(\n",
    "GO6082targets+\n",
    "GO8037targets+\n",
    "#GO10037_1_targets+\n",
    "GO10037_2_targets+\n",
    "GO12111targets+\n",
    "GO13111targets+\n",
    "GO14058targets+\n",
    "GO15058targets+\n",
    "GO16058targets+\n",
    "GO17033targets+\n",
    "GO18033targets)"
   ]
  },
  {
   "cell_type": "code",
   "execution_count": 13,
   "metadata": {},
   "outputs": [],
   "source": [
    "def whitening(time, signaltowhiten):\n",
    "\n",
    "    dowewantplots=False\n",
    "    \n",
    "    #write out every 32th roughly:\n",
    "    if (np.random.rand() > 0.5 and \n",
    "        np.random.rand() > 0.5 and\n",
    "        np.random.rand() > 0.5 and\n",
    "        np.random.rand() > 0.5 and \n",
    "        np.random.rand() > 0.5):\n",
    "        \n",
    "        dowewantplots = True\n",
    "    \n",
    "    #print(time)\n",
    "    #print(signaltowhiten)\n",
    "    \n",
    "    ls = LombScargle(time, signaltowhiten, nterms=1)\n",
    "\n",
    "    nyquist = len(time)/(2*(max(time)-min(time)))\n",
    "\n",
    "    freq, power = ls.autopower(normalization='psd',nyquist_factor=1, samples_per_peak=10)\n",
    "    \n",
    "    if dowewantplots:\n",
    "        plt.plot(freq, power);\n",
    "        plt.show()\n",
    "    \n",
    "    best_freq = freq[power.argmax()]\n",
    "    best_power = power[power.argmax()]\n",
    "    signalfit = ls.model(time, best_freq)\n",
    "\n",
    "    if dowewantplots: \n",
    "        \n",
    "        plt.figure(figsize=(15,5))\n",
    "        plt.plot(time, signalfit)\n",
    "        plt.plot(time, signaltowhiten,alpha=0.5)\n",
    "        plt.plot(time, signaltowhiten-signalfit)\n",
    "        #plt.xlim([2440,2450])\n",
    "        plt.show()\n",
    "    \n",
    "    powerstd = np.std(power)\n",
    "    \n",
    "    return freq, power, signalfit, best_freq, best_power, powerstd"
   ]
  },
  {
   "cell_type": "code",
   "execution_count": 14,
   "metadata": {},
   "outputs": [],
   "source": [
    "def evaluate_whats_left(time, signal_to_evaluate):\n",
    "    \n",
    "    #time=ourstar.k2sc_pdcsaptime\n",
    "    #signal_to_evaluate=last_one_to_whiten_without_break_in_while_loop\n",
    "    \n",
    "    ls = LombScargle(time, signal_to_evaluate, nterms=1)\n",
    "\n",
    "    nyquist = len(time)/(2*(max(time)-min(time)))\n",
    "\n",
    "    freq, power = ls.autopower(normalization='psd',nyquist_factor=1, samples_per_peak=10)\n",
    "\n",
    "    #plt.plot(1/freq, power)\n",
    "\n",
    "    return np.median(power[(1/freq > 1) & (1/freq < 4)])"
   ]
  },
  {
   "cell_type": "code",
   "execution_count": 15,
   "metadata": {},
   "outputs": [],
   "source": [
    "k2p2_noise_floor_dict={}\n",
    "\n",
    "k2p2_noise_floor_dict_2={}\n",
    "\n",
    "fout=open('evaluation_k2p2','w')\n",
    "fout.write('targetname iter_num noise_floor\\n')\n",
    "fout.close()"
   ]
  },
  {
   "cell_type": "code",
   "execution_count": 16,
   "metadata": {},
   "outputs": [
    {
     "name": "stdout",
     "output_type": "stream",
     "text": [
      "0.0\n",
      "K2SFF_LCs_from_MAST_via_file_upload_form_2/hlsp_k2sff_k2_lightcurve_212330039-c06_kepler_v1_llc.fits\n"
     ]
    },
    {
     "name": "stderr",
     "output_type": "stream",
     "text": [
      "/home/szabopal/.local/lib/python3.6/site-packages/pandas/io/parsers.py:2379: FutureWarning: split() requires a non-empty pattern match.\n",
      "  yield pat.split(line.strip())\n",
      "/home/szabopal/.local/lib/python3.6/site-packages/pandas/io/parsers.py:2381: FutureWarning: split() requires a non-empty pattern match.\n",
      "  yield pat.split(line.strip())\n"
     ]
    },
    {
     "name": "stdout",
     "output_type": "stream",
     "text": [
      "/home/szabopal/PycharmProjects/eap/united/massAAP_atnezo/EVEREST_thirdtrial/hlsp_everest_k2_llc_212330039-c06_kepler_v2.0_lc.fits\n",
      "\n",
      "\n"
     ]
    },
    {
     "name": "stderr",
     "output_type": "stream",
     "text": [
      "/home/szabopal/.local/lib/python3.6/site-packages/astropy/stats/lombscargle/implementations/fast_impl.py:80: RuntimeWarning: invalid value encountered in subtract\n",
      "  y = y - np.dot(w, y)\n",
      "/home/szabopal/.local/lib/python3.6/site-packages/astropy/stats/lombscargle/implementations/utils.py:140: RuntimeWarning: invalid value encountered in multiply\n",
      "  h = h * np.exp(2j * np.pi * f0 * (t - t0))\n",
      "/home/szabopal/.local/lib/python3.6/site-packages/astropy/stats/lombscargle/implementations/utils.py:71: RuntimeWarning: invalid value encountered in multiply\n",
      "  numerator = y * np.prod(x - ilo - np.arange(M)[:, np.newaxis], 0)\n",
      "/home/szabopal/.local/lib/python3.6/site-packages/astropy/stats/lombscargle/implementations/mle.py:98: RuntimeWarning: invalid value encountered in subtract\n",
      "  y = (y - y_mean)\n",
      "/home/szabopal/.local/lib/python3.6/site-packages/numpy/lib/function_base.py:3405: RuntimeWarning: Invalid value encountered in median\n",
      "  r = func(a, **kwargs)\n"
     ]
    },
    {
     "data": {
      "image/png": "[encoded data removed]",
      "text/plain": [
       "<Figure size 432x288 with 1 Axes>"
      ]
     },
     "metadata": {
      "needs_background": "light"
     },
     "output_type": "display_data"
    },
    {
     "data": {
      "image/png": "[encoded data removed]",
      "text/plain": [
       "<Figure size 1080x360 with 1 Axes>"
      ]
     },
     "metadata": {
      "needs_background": "light"
     },
     "output_type": "display_data"
    },
    {
     "name": "stdout",
     "output_type": "stream",
     "text": [
      "20\n"
     ]
    },
    {
     "data": {
      "image/png": "[encoded data removed]",
      "text/plain": [
       "<Figure size 432x288 with 1 Axes>"
      ]
     },
     "metadata": {
      "needs_background": "light"
     },
     "output_type": "display_data"
    },
    {
     "data": {
      "image/png": "[encoded data removed]",
      "text/plain": [
       "<Figure size 1080x360 with 1 Axes>"
      ]
     },
     "metadata": {
      "needs_background": "light"
     },
     "output_type": "display_data"
    },
    {
     "name": "stdout",
     "output_type": "stream",
     "text": [
      "40\n",
      "60\n",
      "80\n"
     ]
    },
    {
     "data": {
      "image/png": "[encoded data removed]",
      "text/plain": [
       "<Figure size 432x288 with 1 Axes>"
      ]
     },
     "metadata": {
      "needs_background": "light"
     },
     "output_type": "display_data"
    },
    {
     "data": {
      "image/png": "[encoded data removed]",
      "text/plain": [
       "<Figure size 1080x360 with 1 Axes>"
      ]
     },
     "metadata": {
      "needs_background": "light"
     },
     "output_type": "display_data"
    },
    {
     "ename": "KeyboardInterrupt",
     "evalue": "",
     "output_type": "error",
     "traceback": [
      "\u001b[0;31m---------------------------------------------------------------------------\u001b[0m",
      "\u001b[0;31mKeyboardInterrupt\u001b[0m                         Traceback (most recent call last)",
      "\u001b[0;32m<ipython-input-16-7c90a6fb477d>\u001b[0m in \u001b[0;36m<module>\u001b[0;34m\u001b[0m\n\u001b[1;32m     31\u001b[0m                     \u001b[0mtowhiten\u001b[0m \u001b[0;34m=\u001b[0m \u001b[0mtowhiten\u001b[0m \u001b[0;34m-\u001b[0m \u001b[0msignalfit\u001b[0m\u001b[0;34m\u001b[0m\u001b[0;34m\u001b[0m\u001b[0m\n\u001b[1;32m     32\u001b[0m                     freq, power, signalfit, best_freq, best_power, powerstd = whitening(\n\u001b[0;32m---> 33\u001b[0;31m                         ourstar.k2p2bjd, towhiten)\n\u001b[0m\u001b[1;32m     34\u001b[0m                     \u001b[0;31m#print(best_power)\u001b[0m\u001b[0;34m\u001b[0m\u001b[0;34m\u001b[0m\u001b[0;34m\u001b[0m\u001b[0m\n\u001b[1;32m     35\u001b[0m                     \u001b[0;31m#print(powerstd)\u001b[0m\u001b[0;34m\u001b[0m\u001b[0;34m\u001b[0m\u001b[0;34m\u001b[0m\u001b[0m\n",
      "\u001b[0;32m<ipython-input-13-6ea2a5468f35>\u001b[0m in \u001b[0;36mwhitening\u001b[0;34m(time, signaltowhiten)\u001b[0m\n\u001b[1;32m     27\u001b[0m     \u001b[0mbest_freq\u001b[0m \u001b[0;34m=\u001b[0m \u001b[0mfreq\u001b[0m\u001b[0;34m[\u001b[0m\u001b[0mpower\u001b[0m\u001b[0;34m.\u001b[0m\u001b[0margmax\u001b[0m\u001b[0;34m(\u001b[0m\u001b[0;34m)\u001b[0m\u001b[0;34m]\u001b[0m\u001b[0;34m\u001b[0m\u001b[0;34m\u001b[0m\u001b[0m\n\u001b[1;32m     28\u001b[0m     \u001b[0mbest_power\u001b[0m \u001b[0;34m=\u001b[0m \u001b[0mpower\u001b[0m\u001b[0;34m[\u001b[0m\u001b[0mpower\u001b[0m\u001b[0;34m.\u001b[0m\u001b[0margmax\u001b[0m\u001b[0;34m(\u001b[0m\u001b[0;34m)\u001b[0m\u001b[0;34m]\u001b[0m\u001b[0;34m\u001b[0m\u001b[0;34m\u001b[0m\u001b[0m\n\u001b[0;32m---> 29\u001b[0;31m     \u001b[0msignalfit\u001b[0m \u001b[0;34m=\u001b[0m \u001b[0mls\u001b[0m\u001b[0;34m.\u001b[0m\u001b[0mmodel\u001b[0m\u001b[0;34m(\u001b[0m\u001b[0mtime\u001b[0m\u001b[0;34m,\u001b[0m \u001b[0mbest_freq\u001b[0m\u001b[0;34m)\u001b[0m\u001b[0;34m\u001b[0m\u001b[0;34m\u001b[0m\u001b[0m\n\u001b[0m\u001b[1;32m     30\u001b[0m \u001b[0;34m\u001b[0m\u001b[0m\n\u001b[1;32m     31\u001b[0m     \u001b[0;32mif\u001b[0m \u001b[0mdowewantplots\u001b[0m\u001b[0;34m:\u001b[0m\u001b[0;34m\u001b[0m\u001b[0;34m\u001b[0m\u001b[0m\n",
      "\u001b[0;32m~/.local/lib/python3.6/site-packages/astropy/stats/lombscargle/core.py\u001b[0m in \u001b[0;36mmodel\u001b[0;34m(self, t, frequency)\u001b[0m\n\u001b[1;32m    363\u001b[0m                              \u001b[0mcenter_data\u001b[0m\u001b[0;34m=\u001b[0m\u001b[0mself\u001b[0m\u001b[0;34m.\u001b[0m\u001b[0mcenter_data\u001b[0m\u001b[0;34m,\u001b[0m\u001b[0;34m\u001b[0m\u001b[0;34m\u001b[0m\u001b[0m\n\u001b[1;32m    364\u001b[0m                              \u001b[0mfit_mean\u001b[0m\u001b[0;34m=\u001b[0m\u001b[0mself\u001b[0m\u001b[0;34m.\u001b[0m\u001b[0mfit_mean\u001b[0m\u001b[0;34m,\u001b[0m\u001b[0;34m\u001b[0m\u001b[0;34m\u001b[0m\u001b[0m\n\u001b[0;32m--> 365\u001b[0;31m                              nterms=self.nterms)\n\u001b[0m\u001b[1;32m    366\u001b[0m         \u001b[0;32mreturn\u001b[0m \u001b[0my_fit\u001b[0m \u001b[0;34m*\u001b[0m \u001b[0mget_unit\u001b[0m\u001b[0;34m(\u001b[0m\u001b[0mself\u001b[0m\u001b[0;34m.\u001b[0m\u001b[0my\u001b[0m\u001b[0;34m)\u001b[0m\u001b[0;34m\u001b[0m\u001b[0;34m\u001b[0m\u001b[0m\n\u001b[1;32m    367\u001b[0m \u001b[0;34m\u001b[0m\u001b[0m\n",
      "\u001b[0;32m~/.local/lib/python3.6/site-packages/astropy/stats/lombscargle/implementations/mle.py\u001b[0m in \u001b[0;36mperiodic_fit\u001b[0;34m(t, y, dy, frequency, t_fit, center_data, fit_mean, nterms)\u001b[0m\n\u001b[1;32m    106\u001b[0m     \u001b[0mX_fit\u001b[0m \u001b[0;34m=\u001b[0m \u001b[0mdesign_matrix\u001b[0m\u001b[0;34m(\u001b[0m\u001b[0mt_fit\u001b[0m\u001b[0;34m,\u001b[0m \u001b[0mfrequency\u001b[0m\u001b[0;34m,\u001b[0m \u001b[0mbias\u001b[0m\u001b[0;34m=\u001b[0m\u001b[0mfit_mean\u001b[0m\u001b[0;34m,\u001b[0m \u001b[0mnterms\u001b[0m\u001b[0;34m=\u001b[0m\u001b[0mnterms\u001b[0m\u001b[0;34m)\u001b[0m\u001b[0;34m\u001b[0m\u001b[0;34m\u001b[0m\u001b[0m\n\u001b[1;32m    107\u001b[0m \u001b[0;34m\u001b[0m\u001b[0m\n\u001b[0;32m--> 108\u001b[0;31m     \u001b[0;32mreturn\u001b[0m \u001b[0my_mean\u001b[0m \u001b[0;34m+\u001b[0m \u001b[0mnp\u001b[0m\u001b[0;34m.\u001b[0m\u001b[0mdot\u001b[0m\u001b[0;34m(\u001b[0m\u001b[0mX_fit\u001b[0m\u001b[0;34m,\u001b[0m \u001b[0mtheta_MLE\u001b[0m\u001b[0;34m)\u001b[0m\u001b[0;34m\u001b[0m\u001b[0;34m\u001b[0m\u001b[0m\n\u001b[0m",
      "\u001b[0;31mKeyboardInterrupt\u001b[0m: "
     ]
    }
   ],
   "source": [
    "for index, each in enumerate(targetlist):\n",
    "    \n",
    "    if True:\n",
    "        #if index==0:\n",
    "        if True:\n",
    "            \n",
    "            best_power_list=[]\n",
    "            powerstd_list=[]\n",
    "            median_power_list=[]\n",
    "                \n",
    "            print(index/len(targetlist))\n",
    "            #print(index)\n",
    "            #print(each)\n",
    "\n",
    "            ID=each.split('/')[-1].split('-')[0][4:]\n",
    "            campaign=each.split('/')[-1].split('-')[1].split('_')[0][1:]\n",
    "\n",
    "            ourstar=star(ID,campaign)\n",
    "            \n",
    "            if not (type(ourstar.k2p2bjd) == bool):\n",
    "\n",
    "                freq, power, signalfit, best_freq, best_power, powerstd = whitening(\n",
    "                    ourstar.k2p2bjd, ourstar.k2p2flux)\n",
    "                towhiten=ourstar.k2p2flux-signalfit\n",
    "\n",
    "                counter=0\n",
    "                while True:\n",
    "                    counter+=1\n",
    "                    if counter % 20 == 0: print(counter)\n",
    "\n",
    "                    towhiten = towhiten - signalfit\n",
    "                    freq, power, signalfit, best_freq, best_power, powerstd = whitening(\n",
    "                        ourstar.k2p2bjd, towhiten)\n",
    "                    #print(best_power)\n",
    "                    #print(powerstd)\n",
    "\n",
    "                    if np.median(power)+4*powerstd > best_power:\n",
    "                        break\n",
    "\n",
    "                    last_one_to_whiten_without_break_in_while_loop = towhiten\n",
    "\n",
    "                    best_power_list.append(best_power)\n",
    "                    powerstd_list.append(powerstd)\n",
    "                    median_power_list.append(np.median(power))\n",
    "\n",
    "                best_power_list=np.asarray(best_power_list)\n",
    "                powerstd_list=np.asarray(powerstd_list)\n",
    "                median_power_list=np.asarray(median_power_list)\n",
    "\n",
    "                k2p2flux_noise_floor_dict[each]=np.std(last_one_to_whiten_without_break_in_while_loop)\n",
    "\n",
    "                how_noisy_is_the_signal = evaluate_whats_left(ourstar.k2p2bjd,last_one_to_whiten_without_break_in_while_loop)\n",
    "                k2p2flux_noise_floor_dict_2[each] = how_noisy_is_the_signal\n",
    "\n",
    "                fout=open('evaluation_k2p2flux','a')\n",
    "                fout.write(each+' '+str(counter-1)+' '+str(how_noisy_is_the_signal)+'\\n')\n",
    "                fout.close()\n",
    "                \n",
    "            else:\n",
    "                \n",
    "                fout=open('evaluation_k2p2flux','a')\n",
    "                fout.write(each+' '+'False\\n')\n",
    "                fout.close()"
   ]
  },
  {
   "cell_type": "code",
   "execution_count": 17,
   "metadata": {},
   "outputs": [
    {
     "data": {
      "text/plain": [
       "False"
      ]
     },
     "execution_count": 17,
     "metadata": {},
     "output_type": "execute_result"
    }
   ],
   "source": [
    "np.isnan(ourstar.k2p2bjd).any()"
   ]
  },
  {
   "cell_type": "code",
   "execution_count": 18,
   "metadata": {},
   "outputs": [
    {
     "data": {
      "text/plain": [
       "False"
      ]
     },
     "execution_count": 18,
     "metadata": {},
     "output_type": "execute_result"
    }
   ],
   "source": [
    "np.isnan(ourstar.k2p2flux).any()"
   ]
  },
  {
   "cell_type": "code",
   "execution_count": 19,
   "metadata": {},
   "outputs": [
    {
     "data": {
      "text/plain": [
       "array([nan, nan, nan, ..., nan, nan, nan])"
      ]
     },
     "execution_count": 19,
     "metadata": {},
     "output_type": "execute_result"
    }
   ],
   "source": [
    "power"
   ]
  },
  {
   "cell_type": "code",
   "execution_count": 20,
   "metadata": {},
   "outputs": [],
   "source": [
    "freq, power, signalfit, best_freq, best_power, powerstd = whitening(ourstar.k2p2bjd, ourstar.k2p2flux)"
   ]
  },
  {
   "cell_type": "code",
   "execution_count": null,
   "metadata": {},
   "outputs": [],
   "source": [
    "freq"
   ]
  },
  {
   "cell_type": "code",
   "execution_count": null,
   "metadata": {},
   "outputs": [],
   "source": [
    "power"
   ]
  },
  {
   "cell_type": "code",
   "execution_count": null,
   "metadata": {},
   "outputs": [],
   "source": [
    "(np.asarray([type(each) for each in ourstar.k2p2flux]) == 'numpy.float64').any()"
   ]
  },
  {
   "cell_type": "code",
   "execution_count": null,
   "metadata": {},
   "outputs": [],
   "source": [
    "plt.plot(ourstar.k2p2bjd,ourstar.k2p2flux)"
   ]
  },
  {
   "cell_type": "code",
   "execution_count": 21,
   "metadata": {},
   "outputs": [],
   "source": [
    "freq, power, signalfit, best_freq, best_power, powerstd = whitening(ourstar.k2p2bjd, ourstar.k2p2flux)"
   ]
  },
  {
   "cell_type": "code",
   "execution_count": 22,
   "metadata": {},
   "outputs": [
    {
     "data": {
      "text/plain": [
       "array([nan, nan, nan, ..., nan, nan, nan])"
      ]
     },
     "execution_count": 22,
     "metadata": {},
     "output_type": "execute_result"
    }
   ],
   "source": [
    "power"
   ]
  },
  {
   "cell_type": "code",
   "execution_count": 48,
   "metadata": {},
   "outputs": [
    {
     "data": {
      "text/plain": [
       "False"
      ]
     },
     "execution_count": 48,
     "metadata": {},
     "output_type": "execute_result"
    }
   ],
   "source": [
    "(np.asarray([type(each) for each in time]) == 'numpy.float64').any()"
   ]
  },
  {
   "cell_type": "code",
   "execution_count": 55,
   "metadata": {},
   "outputs": [
    {
     "name": "stdout",
     "output_type": "stream",
     "text": [
      "False\n",
      "False\n",
      "20.972057156908853\n",
      "power:\n",
      "[nan nan nan ... nan nan nan]\n"
     ]
    },
    {
     "data": {
      "image/png": "[encoded data removed]",
      "text/plain": [
       "<Figure size 432x288 with 1 Axes>"
      ]
     },
     "metadata": {
      "needs_background": "light"
     },
     "output_type": "display_data"
    }
   ],
   "source": [
    "time = np.asarray(ourstar.k2p2bjd)\n",
    "signaltowhiten = np.asarray(ourstar.k2p2flux)\n",
    "\n",
    "print((np.asarray([type(each) for each in time]) == 'numpy.float64').any())\n",
    "print((np.asarray([type(each) for each in signaltowhiten]) == 'numpy.float64').any())\n",
    "\n",
    "plt.plot(time,signaltowhiten)\n",
    "\n",
    "ls = LombScargle(time, signaltowhiten, nterms=1)\n",
    "\n",
    "nyquist = len(time)/(2*(max(time)-min(time)))\n",
    "print(nyquist)\n",
    "\n",
    "freq, power = ls.autopower(normalization='psd',nyquist_factor=1.2, samples_per_peak=10)\n",
    "\n",
    "print('power:')\n",
    "print(power)"
   ]
  },
  {
   "cell_type": "code",
   "execution_count": 58,
   "metadata": {},
   "outputs": [
    {
     "data": {
      "text/plain": [
       "array([False, False, False, ..., False, False, False])"
      ]
     },
     "execution_count": 58,
     "metadata": {},
     "output_type": "execute_result"
    }
   ],
   "source": [
    "np.asarray([type(each) for each in time]) == 'numpy.float64'"
   ]
  },
  {
   "cell_type": "code",
   "execution_count": 36,
   "metadata": {},
   "outputs": [
    {
     "data": {
      "text/plain": [
       "array([6.33979962e-04, 1.90193989e-03, 3.16989981e-03, ...,\n",
       "       2.09688873e+01, 2.09701552e+01, 2.09714232e+01])"
      ]
     },
     "execution_count": 36,
     "metadata": {},
     "output_type": "execute_result"
    }
   ],
   "source": [
    "freq"
   ]
  },
  {
   "cell_type": "code",
   "execution_count": 37,
   "metadata": {},
   "outputs": [
    {
     "data": {
      "text/plain": [
       "array([nan, nan, nan, ..., nan, nan, nan])"
      ]
     },
     "execution_count": 37,
     "metadata": {},
     "output_type": "execute_result"
    }
   ],
   "source": [
    "power"
   ]
  },
  {
   "cell_type": "code",
   "execution_count": null,
   "metadata": {},
   "outputs": [],
   "source": []
  }
 ],
 "metadata": {
  "kernelspec": {
   "display_name": "Python 3",
   "language": "python",
   "name": "python3"
  },
  "language_info": {
   "codemirror_mode": {
    "name": "ipython",
    "version": 3
   },
   "file_extension": ".py",
   "mimetype": "text/x-python",
   "name": "python",
   "nbconvert_exporter": "python",
   "pygments_lexer": "ipython3",
   "version": "3.6.8"
  }
 },
 "nbformat": 4,
 "nbformat_minor": 2
}
