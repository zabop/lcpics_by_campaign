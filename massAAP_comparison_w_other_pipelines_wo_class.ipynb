{
 "cells": [
  {
   "cell_type": "code",
   "execution_count": 15,
   "metadata": {},
   "outputs": [],
   "source": [
    "import glob\n",
    "import numpy as np\n",
    "from astropy.io import fits\n",
    "import pandas as pd"
   ]
  },
  {
   "cell_type": "code",
   "execution_count": 16,
   "metadata": {},
   "outputs": [],
   "source": [
    "def massAAPreader(ID, campaign):\n",
    "    \n",
    "    try:\n",
    "\n",
    "        #lcfile=glob.glob('../../GO*/*'+target.split('/')[-1].split('_')[0][4:]+'*k2sc.lc');\n",
    "        lcfile=glob.glob('../../GO*/ktwo'+str(ID)+'-c'+campaign+'_lpd-targ.fits_massAAP_lc_TH8_k2sc.lc')[0]\n",
    "\n",
    "       # if len(lcfile)==0:\n",
    "       #     massAAP_k2sc_corr_flux = massAAP(each,True)\n",
    "       #     lcfile=glob.glob('../../GO*/*'+target.split('/')[-1].split('_')[0][4:]+'*k2sc.lc')\n",
    "\n",
    "        #print(lcfile)\n",
    "        lc=np.genfromtxt(lcfile,delimiter=' ',skip_header=1)\n",
    "        massAAPreader.lc=lc\n",
    "        bjd=lc[:,0]\n",
    "        flux=lc[:,1]\n",
    "\n",
    "        \n",
    "        return bjd, flux\n",
    "    \n",
    "    except IndexError:\n",
    "        \n",
    "        return False, False"
   ]
  },
  {
   "cell_type": "code",
   "execution_count": 17,
   "metadata": {},
   "outputs": [],
   "source": [
    "def k2sffreader(ID, campaign):\n",
    "    \n",
    "    try:\n",
    "\n",
    "        k2sfffile = 'K2SFF_LCs_from_MAST_via_file_upload_form_2/hlsp_k2sff_k2_lightcurve_'+str(ID)+'-c'+campaign+'_kepler_v1_llc.fits'\n",
    "        print(k2sfffile)\n",
    "        \n",
    "      #  if 'c102' in target:\n",
    "      #      k2sfffile ='hlsp_k2sff_k2_lightcurve_'+target.split('/')[-1][4:19]+'kepler_v1_llc.fits'\n",
    "      #  else:\n",
    "      #      k2sfffile ='hlsp_k2sff_k2_lightcurve_'+target.split('/')[-1][4:18]+'kepler_v1_llc.fits'\n",
    "\n",
    "  #      hdul = fits.open('K2SFF_LCs_from_MAST_via_file_upload_form/'+k2sfffile)\n",
    "         \n",
    "  #      data=hdul[1].data\n",
    "    \n",
    "        data = fits.getdata(k2sfffile, ext=1)\n",
    "        \n",
    "#        k2sff_time=hdul[1].data['T']\n",
    "#        k2sff_fcor=hdul[1].data['FCOR']\n",
    "#        k2sff_fraw=hdul[1].data['FRAW']\n",
    "\n",
    "        k2sff_time=data['T']\n",
    "        k2sff_fcor=data['FCOR']\n",
    "        k2sff_fraw=data['FRAW']\n",
    "\n",
    "        \n",
    "        del data\n",
    "       # hdul.close()\n",
    "    \n",
    "\n",
    "\n",
    "        return k2sff_time, k2sff_fcor, k2sff_fraw\n",
    "    \n",
    "    except FileNotFoundError:\n",
    "        \n",
    "        return False, False, False"
   ]
  },
  {
   "cell_type": "code",
   "execution_count": 18,
   "metadata": {},
   "outputs": [],
   "source": [
    "def K2SCzett_SAPandPDCMAPreader(ID, campaign):\n",
    "    \n",
    "    try:\n",
    "\n",
    "        k2scfile = 'hlsp_k2sc_k2_llc_'+str(ID)+'-c'+campaign+'_kepler_v2_lc.fits'\n",
    "\n",
    "      #  if 'c102' in target:\n",
    "      #      k2scfile='hlsp_k2sc_k2_llc_'+target.split('/')[-1][4:19]+'kepler_v2_lc.fits'\n",
    "      #  else:\n",
    "      #      k2scfile='hlsp_k2sc_k2_llc_'+target.split('/')[-1][4:18]+'kepler_v2_lc.fits'\n",
    "\n",
    "        #hdul=fits.open(k2scfile)\n",
    "\n",
    "        \n",
    "        \n",
    "        #data=hdul[1].data\n",
    "        \n",
    "        data_ext1 = fits.getdata(k2scfile, ext=1)\n",
    "        data_ext2 = fits.getdata(k2scfile, ext=2)\n",
    "        \n",
    "        k2sc_saptime=data_ext1['TIME'][[data_ext1['quality']][0]==0]    \n",
    "        k2sc_sapflux=(data_ext1['flux']+data_ext1['trtime']-np.nanmedian(data_ext1['trtime']))[data_ext1['quality'] == 0]\n",
    "\n",
    "        k2sc_pdcmaptime=data_ext2['TIME'][data_ext2['quality']==0]\n",
    "        k2sc_pdcmapflux=(data_ext2['flux']+data_ext2['trtime']-np.nanmedian(data_ext2['trtime']))[data_ext2['quality'] == 0]\n",
    "\n",
    "        #hdul.close()\n",
    "        \n",
    "\n",
    "        return k2sc_saptime, k2sc_sapflux, k2sc_pdcmaptime, k2sc_pdcmapflux\n",
    "    \n",
    "    except FileNotFoundError:\n",
    "        \n",
    "        return False, False, False, False"
   ]
  },
  {
   "cell_type": "code",
   "execution_count": 19,
   "metadata": {},
   "outputs": [],
   "source": [
    "def SAPandPDCMAPreader(ID, campaign):\n",
    "    \n",
    "    try:\n",
    "    \n",
    "        sap_pdcmap_file='SAPandPDCMAPfromMAST/ktwo'+str(ID)+'-c'+campaign+'_llc.fits'\n",
    "\n",
    "      #  if 'c102' in target:\n",
    "      #      sap_pdcmap_file='SAPandPDCMAPfromMAST/ktwo'+target.split('/')[-1][4:19]+'llc.fits'\n",
    "      #  else:\n",
    "      #      sap_pdcmap_file='SAPandPDCMAPfromMAST/ktwo'+target.split('/')[-1][4:18]+'llc.fits'\n",
    "\n",
    "   #     hdul=fits.open(sap_pdcmap_file)\n",
    "   #     data=hdul[1].data\n",
    "\n",
    "        data=fits.getdata(sap_pdcmap_file, ext=1)\n",
    "        \n",
    "        sapflux=data['SAP_FLUX'][data['SAP_QUALITY']==0]\n",
    "        saptime=data['TIME'][data['SAP_QUALITY']==0]\n",
    "\n",
    "        pdcsapflux=data['PDCSAP_FLUX'][data['SAP_QUALITY']==0]\n",
    "        pdcsaptime=data['TIME'][data['SAP_QUALITY']==0]\n",
    "\n",
    "        del data\n",
    "        \n",
    "\n",
    "    #    hdul.close()\n",
    "        return sapflux, saptime, pdcsapflux, pdcsaptime\n",
    "    \n",
    "    except FileNotFoundError:\n",
    "        return False, False, False, False"
   ]
  },
  {
   "cell_type": "code",
   "execution_count": 20,
   "metadata": {},
   "outputs": [],
   "source": [
    "def K2P2reader(ID, campaign):\n",
    "    \n",
    "    try:\n",
    "\n",
    "        #K2P2file=glob.glob('K2P2_attila_scriptjevel/'+target.split('/')[-1].split('_')[0]+'*')[0]\n",
    "\n",
    "        K2P2file='K2P2_attila_scriptjevel/ktwo'+str(ID)+'-c'+campaign+'_llc.dat'\n",
    "\n",
    "        df=pd.read_csv(K2P2file,skiprows=14,header=None,sep=r\"\\s*\",engine='python')\n",
    "        k2p2bjd=df[0][df[5]==0]\n",
    "        k2p2flux=df[3][df[5]==0]\n",
    "\n",
    "        del df\n",
    "        \n",
    "        return k2p2bjd, k2p2flux\n",
    "    \n",
    "    except FileNotFoundError:\n",
    "        \n",
    "        return False, False"
   ]
  },
  {
   "cell_type": "code",
   "execution_count": 60,
   "metadata": {},
   "outputs": [],
   "source": [
    "def everestreader(ID, campaign):\n",
    "    \n",
    "    try:\n",
    "\n",
    "        everestfile='/home/szabopal/PycharmProjects/eap/united/massAAP_atnezo/EVEREST_thirdtrial/hlsp_everest_k2_llc_'+str(ID)+'-c'+campaign+'_kepler_v2.0_lc.fits'\n",
    "\n",
    "        print(everestfile)\n",
    "        print('\\n')\n",
    "        \n",
    "      #  if 'c102' in target:\n",
    "      #      everestfile='hlsp_everest_k2_llc_'+target.split('/')[-1][4:19]+'kepler_v2.0_lc.fits'\n",
    "      #  else:\n",
    "      #      everestfile='hlsp_everest_k2_llc_'+target.split('/')[-1][4:18]+'kepler_v2.0_lc.fits'\n",
    "\n",
    "\n",
    "        #hdul = fits.open('EVEREST_LCs_from_MAST_via_file_upload_form/'+everestfile)\n",
    "        \n",
    "        data=fits.getdata(everestfile, ext=1)\n",
    "\n",
    "        time=data['TIME']\n",
    "        fcor=data['FCOR']\n",
    "        everest_fraw = data['FRAW']\n",
    "        quality=np.where(data['QUALITY']==0)    \n",
    "        \n",
    "        \n",
    "        \n",
    "        #time=hdul[1].data['TIME']\n",
    "        #fcor=hdul[1].data['FCOR']\n",
    "        #everest_fraw = hdul[1].data['FRAW']\n",
    "        #quality=np.where(hdul[1].data['QUALITY']==0)    \n",
    "        #hdul.close()\n",
    "\n",
    "        everest_time=time[quality]\n",
    "        everest_fcor=fcor[quality]\n",
    "\n",
    "        everest_fraw_time=time\n",
    "\n",
    "        del data\n",
    "        \n",
    "        \n",
    "\n",
    "        return everest_time, everest_fcor, everest_fraw_time, everest_fraw\n",
    "    \n",
    "    except FileNotFoundError:\n",
    "        \n",
    "        return False, False, False, False"
   ]
  },
  {
   "cell_type": "code",
   "execution_count": 145,
   "metadata": {},
   "outputs": [],
   "source": [
    "df=pd.read_csv('kp_mag_search.csv')\n",
    "\n",
    "class star:\n",
    "    def __init__(self, ID, campaign):\n",
    "        \n",
    "        self.ID=ID\n",
    "        self.campaign=campaign\n",
    "        \n",
    "        self.keplermag = float((df[df['EPIC']==str(self.ID)]['KepMag']).values[0])\n",
    "        \n",
    "        self.massaapbjd, self.massaapflux = massAAPreader(self.ID, self.campaign)\n",
    "        \n",
    "        self.k2sff_time, self.k2sff_fcor, self.k2sff_fraw = k2sffreader(self.ID, self.campaign)\n",
    "        self.k2sc_saptime, self.k2sc_sapflux, self.k2sc_pdcsaptime, self.k2sc_pdcsapflux = K2SCzett_SAPandPDCMAPreader(self.ID, self.campaign)\n",
    "        self.sapflux, self.saptime, self.pdcsapflux, self.pdcsaptime = SAPandPDCMAPreader(self.ID, self.campaign)\n",
    "        self.k2p2bjd, self.k2p2flux = K2P2reader(ID, campaign)\n",
    "        self.everest_time, self.everest_fcor, self.everest_fraw_time, self.everest_fraw = everestreader(self.ID, self.campaign)\n",
    "        "
   ]
  },
  {
   "cell_type": "code",
   "execution_count": 146,
   "metadata": {},
   "outputs": [],
   "source": [
    "GO6082targets=glob.glob('../../GO6082/*c06*lpd*targ.fits')\n",
    "GO8037targets=glob.glob('../../GO8037/*c08*lpd*targ.fits')\n",
    "GO10037_1_targets=glob.glob('../../GO10037/*c101*lpd*targ.fits')\n",
    "GO10037_2_targets=glob.glob('../../GO10037/*c102*lpd*targ.fits')\n",
    "GO12111targets=glob.glob('../../GO12111/*c12*lpd*targ.fits')\n",
    "GO13111targets=glob.glob('../../GO13111/*c13*lpd*targ.fits')\n",
    "GO14058targets=glob.glob('../../GO14058/*c14*lpd*targ.fits')\n",
    "GO15058targets=glob.glob('../../GO15058/*c15*lpd*targ.fits')\n",
    "GO16058targets=glob.glob('../../GO16058/*c16*lpd*targ.fits')\n",
    "GO17033targets=glob.glob('../../GO17033/*c17*lpd*targ.fits')\n",
    "GO18033targets=glob.glob('../../GO18033/*c18*lpd*targ.fits')"
   ]
  },
  {
   "cell_type": "code",
   "execution_count": 147,
   "metadata": {},
   "outputs": [],
   "source": [
    "targetlist=(\n",
    "GO6082targets+\n",
    "GO8037targets+\n",
    "GO10037_1_targets+\n",
    "GO10037_2_targets+\n",
    "GO12111targets+\n",
    "GO13111targets+\n",
    "GO14058targets+\n",
    "GO15058targets+\n",
    "GO16058targets+\n",
    "GO17033targets+\n",
    "GO18033targets)"
   ]
  },
  {
   "cell_type": "code",
   "execution_count": 148,
   "metadata": {},
   "outputs": [],
   "source": [
    "def maxfreq_maxpower(time, flux):\n",
    "    \n",
    "    frequency, power = LombScargle(time, flux).autopower()\n",
    "    #plt.plot(frequency, power)       \n",
    "    nyquist = len(time)/(2*(max(time)-min(time)))\n",
    "    #plt.xlim([0,nyquist])\n",
    "    best_frequency = frequency[np.argmax(power[frequency<nyquist])]\n",
    "    #print(best_frequency)\n",
    "    maxpower=np.max(power[frequency<nyquist])\n",
    "    #print(maxpower)\n",
    "    \n",
    "    return best_frequency, maxpower"
   ]
  },
  {
   "cell_type": "code",
   "execution_count": null,
   "metadata": {},
   "outputs": [],
   "source": []
  },
  {
   "cell_type": "code",
   "execution_count": null,
   "metadata": {},
   "outputs": [],
   "source": []
  },
  {
   "cell_type": "code",
   "execution_count": 149,
   "metadata": {},
   "outputs": [
    {
     "data": {
      "text/plain": [
       "'../../GO6082/ktwo212330039-c06_lpd-targ.fits'"
      ]
     },
     "execution_count": 149,
     "metadata": {},
     "output_type": "execute_result"
    }
   ],
   "source": [
    "targetlist[0]"
   ]
  },
  {
   "cell_type": "code",
   "execution_count": 152,
   "metadata": {},
   "outputs": [
    {
     "name": "stdout",
     "output_type": "stream",
     "text": [
      "0.0\n",
      "0\n",
      "../../GO6082/ktwo212330039-c06_lpd-targ.fits\n",
      "K2SFF_LCs_from_MAST_via_file_upload_form_2/hlsp_k2sff_k2_lightcurve_212330039-c06_kepler_v1_llc.fits\n",
      "/home/szabopal/PycharmProjects/eap/united/massAAP_atnezo/EVEREST_thirdtrial/hlsp_everest_k2_llc_212330039-c06_kepler_v2.0_lc.fits\n",
      "\n",
      "\n"
     ]
    },
    {
     "name": "stderr",
     "output_type": "stream",
     "text": [
      "/home/szabopal/.local/lib/python3.6/site-packages/pandas/io/parsers.py:2379: FutureWarning: split() requires a non-empty pattern match.\n",
      "  yield pat.split(line.strip())\n",
      "/home/szabopal/.local/lib/python3.6/site-packages/pandas/io/parsers.py:2381: FutureWarning: split() requires a non-empty pattern match.\n",
      "  yield pat.split(line.strip())\n",
      "/home/szabopal/.local/lib/python3.6/site-packages/astropy/stats/lombscargle/implementations/fast_impl.py:80: RuntimeWarning: invalid value encountered in subtract\n",
      "  y = y - np.dot(w, y)\n",
      "/home/szabopal/.local/lib/python3.6/site-packages/astropy/stats/lombscargle/implementations/utils.py:140: RuntimeWarning: invalid value encountered in multiply\n",
      "  h = h * np.exp(2j * np.pi * f0 * (t - t0))\n",
      "/home/szabopal/.local/lib/python3.6/site-packages/astropy/stats/lombscargle/implementations/utils.py:71: RuntimeWarning: invalid value encountered in multiply\n",
      "  numerator = y * np.prod(x - ilo - np.arange(M)[:, np.newaxis], 0)\n"
     ]
    },
    {
     "name": "stdout",
     "output_type": "stream",
     "text": [
      "0.00046511627906976747\n",
      "1\n",
      "../../GO6082/ktwo229228114-c06_lpd-targ.fits\n",
      "K2SFF_LCs_from_MAST_via_file_upload_form_2/hlsp_k2sff_k2_lightcurve_229228114-c06_kepler_v1_llc.fits\n",
      "/home/szabopal/PycharmProjects/eap/united/massAAP_atnezo/EVEREST_thirdtrial/hlsp_everest_k2_llc_229228114-c06_kepler_v2.0_lc.fits\n",
      "\n",
      "\n",
      "0.0009302325581395349\n",
      "2\n",
      "../../GO6082/ktwo212571112-c06_lpd-targ.fits\n",
      "K2SFF_LCs_from_MAST_via_file_upload_form_2/hlsp_k2sff_k2_lightcurve_212571112-c06_kepler_v1_llc.fits\n",
      "/home/szabopal/PycharmProjects/eap/united/massAAP_atnezo/EVEREST_thirdtrial/hlsp_everest_k2_llc_212571112-c06_kepler_v2.0_lc.fits\n",
      "\n",
      "\n",
      "0.0013953488372093023\n",
      "3\n",
      "../../GO6082/ktwo229228086-c06_lpd-targ.fits\n",
      "K2SFF_LCs_from_MAST_via_file_upload_form_2/hlsp_k2sff_k2_lightcurve_229228086-c06_kepler_v1_llc.fits\n",
      "/home/szabopal/PycharmProjects/eap/united/massAAP_atnezo/EVEREST_thirdtrial/hlsp_everest_k2_llc_229228086-c06_kepler_v2.0_lc.fits\n",
      "\n",
      "\n",
      "0.0018604651162790699\n",
      "4\n",
      "../../GO6082/ktwo212753920-c06_lpd-targ.fits\n",
      "K2SFF_LCs_from_MAST_via_file_upload_form_2/hlsp_k2sff_k2_lightcurve_212753920-c06_kepler_v1_llc.fits\n",
      "/home/szabopal/PycharmProjects/eap/united/massAAP_atnezo/EVEREST_thirdtrial/hlsp_everest_k2_llc_212753920-c06_kepler_v2.0_lc.fits\n",
      "\n",
      "\n",
      "0.002325581395348837\n",
      "5\n",
      "../../GO6082/ktwo212352472-c06_lpd-targ.fits\n",
      "K2SFF_LCs_from_MAST_via_file_upload_form_2/hlsp_k2sff_k2_lightcurve_212352472-c06_kepler_v1_llc.fits\n",
      "/home/szabopal/PycharmProjects/eap/united/massAAP_atnezo/EVEREST_thirdtrial/hlsp_everest_k2_llc_212352472-c06_kepler_v2.0_lc.fits\n",
      "\n",
      "\n",
      "0.0027906976744186047\n",
      "6\n",
      "../../GO6082/ktwo212469563-c06_lpd-targ.fits\n",
      "K2SFF_LCs_from_MAST_via_file_upload_form_2/hlsp_k2sff_k2_lightcurve_212469563-c06_kepler_v1_llc.fits\n",
      "/home/szabopal/PycharmProjects/eap/united/massAAP_atnezo/EVEREST_thirdtrial/hlsp_everest_k2_llc_212469563-c06_kepler_v2.0_lc.fits\n",
      "\n",
      "\n",
      "0.0032558139534883722\n",
      "7\n",
      "../../GO6082/ktwo229228122-c06_lpd-targ.fits\n",
      "K2SFF_LCs_from_MAST_via_file_upload_form_2/hlsp_k2sff_k2_lightcurve_229228122-c06_kepler_v1_llc.fits\n",
      "/home/szabopal/PycharmProjects/eap/united/massAAP_atnezo/EVEREST_thirdtrial/hlsp_everest_k2_llc_229228122-c06_kepler_v2.0_lc.fits\n",
      "\n",
      "\n",
      "0.0037209302325581397\n",
      "8\n",
      "../../GO6082/ktwo229228111-c06_lpd-targ.fits\n",
      "K2SFF_LCs_from_MAST_via_file_upload_form_2/hlsp_k2sff_k2_lightcurve_229228111-c06_kepler_v1_llc.fits\n",
      "/home/szabopal/PycharmProjects/eap/united/massAAP_atnezo/EVEREST_thirdtrial/hlsp_everest_k2_llc_229228111-c06_kepler_v2.0_lc.fits\n",
      "\n",
      "\n",
      "0.004186046511627907\n",
      "9\n",
      "../../GO6082/ktwo212532316-c06_lpd-targ.fits\n",
      "K2SFF_LCs_from_MAST_via_file_upload_form_2/hlsp_k2sff_k2_lightcurve_212532316-c06_kepler_v1_llc.fits\n",
      "/home/szabopal/PycharmProjects/eap/united/massAAP_atnezo/EVEREST_thirdtrial/hlsp_everest_k2_llc_212532316-c06_kepler_v2.0_lc.fits\n",
      "\n",
      "\n",
      "0.004651162790697674\n",
      "10\n",
      "../../GO6082/ktwo212521177-c06_lpd-targ.fits\n",
      "K2SFF_LCs_from_MAST_via_file_upload_form_2/hlsp_k2sff_k2_lightcurve_212521177-c06_kepler_v1_llc.fits\n",
      "/home/szabopal/PycharmProjects/eap/united/massAAP_atnezo/EVEREST_thirdtrial/hlsp_everest_k2_llc_212521177-c06_kepler_v2.0_lc.fits\n",
      "\n",
      "\n",
      "0.0051162790697674414\n",
      "11\n",
      "../../GO6082/ktwo212521298-c06_lpd-targ.fits\n",
      "K2SFF_LCs_from_MAST_via_file_upload_form_2/hlsp_k2sff_k2_lightcurve_212521298-c06_kepler_v1_llc.fits\n",
      "/home/szabopal/PycharmProjects/eap/united/massAAP_atnezo/EVEREST_thirdtrial/hlsp_everest_k2_llc_212521298-c06_kepler_v2.0_lc.fits\n",
      "\n",
      "\n",
      "0.005581395348837209\n",
      "12\n",
      "../../GO6082/ktwo212734072-c06_lpd-targ.fits\n",
      "K2SFF_LCs_from_MAST_via_file_upload_form_2/hlsp_k2sff_k2_lightcurve_212734072-c06_kepler_v1_llc.fits\n",
      "/home/szabopal/PycharmProjects/eap/united/massAAP_atnezo/EVEREST_thirdtrial/hlsp_everest_k2_llc_212734072-c06_kepler_v2.0_lc.fits\n",
      "\n",
      "\n",
      "0.0060465116279069765\n",
      "13\n",
      "../../GO6082/ktwo212504059-c06_lpd-targ.fits\n",
      "K2SFF_LCs_from_MAST_via_file_upload_form_2/hlsp_k2sff_k2_lightcurve_212504059-c06_kepler_v1_llc.fits\n",
      "/home/szabopal/PycharmProjects/eap/united/massAAP_atnezo/EVEREST_thirdtrial/hlsp_everest_k2_llc_212504059-c06_kepler_v2.0_lc.fits\n",
      "\n",
      "\n",
      "0.0065116279069767444\n",
      "14\n",
      "../../GO6082/ktwo212712239-c06_lpd-targ.fits\n",
      "K2SFF_LCs_from_MAST_via_file_upload_form_2/hlsp_k2sff_k2_lightcurve_212712239-c06_kepler_v1_llc.fits\n",
      "/home/szabopal/PycharmProjects/eap/united/massAAP_atnezo/EVEREST_thirdtrial/hlsp_everest_k2_llc_212712239-c06_kepler_v2.0_lc.fits\n",
      "\n",
      "\n",
      "0.0069767441860465115\n",
      "15\n",
      "../../GO6082/ktwo212472092-c06_lpd-targ.fits\n",
      "K2SFF_LCs_from_MAST_via_file_upload_form_2/hlsp_k2sff_k2_lightcurve_212472092-c06_kepler_v1_llc.fits\n",
      "/home/szabopal/PycharmProjects/eap/united/massAAP_atnezo/EVEREST_thirdtrial/hlsp_everest_k2_llc_212472092-c06_kepler_v2.0_lc.fits\n",
      "\n",
      "\n",
      "0.0074418604651162795\n",
      "16\n",
      "../../GO6082/ktwo212595129-c06_lpd-targ.fits\n",
      "K2SFF_LCs_from_MAST_via_file_upload_form_2/hlsp_k2sff_k2_lightcurve_212595129-c06_kepler_v1_llc.fits\n",
      "/home/szabopal/PycharmProjects/eap/united/massAAP_atnezo/EVEREST_thirdtrial/hlsp_everest_k2_llc_212595129-c06_kepler_v2.0_lc.fits\n",
      "\n",
      "\n",
      "0.007906976744186046\n",
      "17\n",
      "../../GO6082/ktwo212400021-c06_lpd-targ.fits\n",
      "K2SFF_LCs_from_MAST_via_file_upload_form_2/hlsp_k2sff_k2_lightcurve_212400021-c06_kepler_v1_llc.fits\n",
      "/home/szabopal/PycharmProjects/eap/united/massAAP_atnezo/EVEREST_thirdtrial/hlsp_everest_k2_llc_212400021-c06_kepler_v2.0_lc.fits\n",
      "\n",
      "\n",
      "0.008372093023255815\n",
      "18\n",
      "../../GO6082/ktwo212409299-c06_lpd-targ.fits\n",
      "K2SFF_LCs_from_MAST_via_file_upload_form_2/hlsp_k2sff_k2_lightcurve_212409299-c06_kepler_v1_llc.fits\n",
      "/home/szabopal/PycharmProjects/eap/united/massAAP_atnezo/EVEREST_thirdtrial/hlsp_everest_k2_llc_212409299-c06_kepler_v2.0_lc.fits\n",
      "\n",
      "\n",
      "0.008837209302325582\n",
      "19\n",
      "../../GO6082/ktwo212725898-c06_lpd-targ.fits\n",
      "K2SFF_LCs_from_MAST_via_file_upload_form_2/hlsp_k2sff_k2_lightcurve_212725898-c06_kepler_v1_llc.fits\n",
      "/home/szabopal/PycharmProjects/eap/united/massAAP_atnezo/EVEREST_thirdtrial/hlsp_everest_k2_llc_212725898-c06_kepler_v2.0_lc.fits\n",
      "\n",
      "\n",
      "0.009302325581395349\n",
      "20\n",
      "../../GO6082/ktwo212614766-c06_lpd-targ.fits\n",
      "K2SFF_LCs_from_MAST_via_file_upload_form_2/hlsp_k2sff_k2_lightcurve_212614766-c06_kepler_v1_llc.fits\n",
      "/home/szabopal/PycharmProjects/eap/united/massAAP_atnezo/EVEREST_thirdtrial/hlsp_everest_k2_llc_212614766-c06_kepler_v2.0_lc.fits\n",
      "\n",
      "\n",
      "0.009767441860465116\n",
      "21\n",
      "../../GO6082/ktwo212450283-c06_lpd-targ.fits\n",
      "K2SFF_LCs_from_MAST_via_file_upload_form_2/hlsp_k2sff_k2_lightcurve_212450283-c06_kepler_v1_llc.fits\n",
      "/home/szabopal/PycharmProjects/eap/united/massAAP_atnezo/EVEREST_thirdtrial/hlsp_everest_k2_llc_212450283-c06_kepler_v2.0_lc.fits\n",
      "\n",
      "\n",
      "0.010232558139534883\n",
      "22\n",
      "../../GO6082/ktwo212335761-c06_lpd-targ.fits\n",
      "K2SFF_LCs_from_MAST_via_file_upload_form_2/hlsp_k2sff_k2_lightcurve_212335761-c06_kepler_v1_llc.fits\n",
      "/home/szabopal/PycharmProjects/eap/united/massAAP_atnezo/EVEREST_thirdtrial/hlsp_everest_k2_llc_212335761-c06_kepler_v2.0_lc.fits\n",
      "\n",
      "\n",
      "0.010697674418604652\n",
      "23\n",
      "../../GO6082/ktwo212304480-c06_lpd-targ.fits\n",
      "K2SFF_LCs_from_MAST_via_file_upload_form_2/hlsp_k2sff_k2_lightcurve_212304480-c06_kepler_v1_llc.fits\n",
      "/home/szabopal/PycharmProjects/eap/united/massAAP_atnezo/EVEREST_thirdtrial/hlsp_everest_k2_llc_212304480-c06_kepler_v2.0_lc.fits\n",
      "\n",
      "\n",
      "0.011162790697674419\n",
      "24\n",
      "../../GO6082/ktwo212649058-c06_lpd-targ.fits\n",
      "K2SFF_LCs_from_MAST_via_file_upload_form_2/hlsp_k2sff_k2_lightcurve_212649058-c06_kepler_v1_llc.fits\n",
      "/home/szabopal/PycharmProjects/eap/united/massAAP_atnezo/EVEREST_thirdtrial/hlsp_everest_k2_llc_212649058-c06_kepler_v2.0_lc.fits\n",
      "\n",
      "\n",
      "0.011627906976744186\n",
      "25\n",
      "../../GO6082/ktwo212534342-c06_lpd-targ.fits\n",
      "K2SFF_LCs_from_MAST_via_file_upload_form_2/hlsp_k2sff_k2_lightcurve_212534342-c06_kepler_v1_llc.fits\n",
      "/home/szabopal/PycharmProjects/eap/united/massAAP_atnezo/EVEREST_thirdtrial/hlsp_everest_k2_llc_212534342-c06_kepler_v2.0_lc.fits\n",
      "\n",
      "\n",
      "0.012093023255813953\n",
      "26\n",
      "../../GO6082/ktwo212421319-c06_lpd-targ.fits\n",
      "K2SFF_LCs_from_MAST_via_file_upload_form_2/hlsp_k2sff_k2_lightcurve_212421319-c06_kepler_v1_llc.fits\n",
      "/home/szabopal/PycharmProjects/eap/united/massAAP_atnezo/EVEREST_thirdtrial/hlsp_everest_k2_llc_212421319-c06_kepler_v2.0_lc.fits\n",
      "\n",
      "\n",
      "0.012558139534883722\n",
      "27\n",
      "../../GO6082/ktwo212291374-c06_lpd-targ.fits\n",
      "K2SFF_LCs_from_MAST_via_file_upload_form_2/hlsp_k2sff_k2_lightcurve_212291374-c06_kepler_v1_llc.fits\n",
      "/home/szabopal/PycharmProjects/eap/united/massAAP_atnezo/EVEREST_thirdtrial/hlsp_everest_k2_llc_212291374-c06_kepler_v2.0_lc.fits\n",
      "\n",
      "\n",
      "0.013023255813953489\n",
      "28\n",
      "../../GO6082/ktwo212417452-c06_lpd-targ.fits\n",
      "K2SFF_LCs_from_MAST_via_file_upload_form_2/hlsp_k2sff_k2_lightcurve_212417452-c06_kepler_v1_llc.fits\n"
     ]
    },
    {
     "name": "stdout",
     "output_type": "stream",
     "text": [
      "/home/szabopal/PycharmProjects/eap/united/massAAP_atnezo/EVEREST_thirdtrial/hlsp_everest_k2_llc_212417452-c06_kepler_v2.0_lc.fits\n",
      "\n",
      "\n",
      "0.013488372093023256\n",
      "29\n",
      "../../GO6082/ktwo212347262-c06_lpd-targ.fits\n",
      "K2SFF_LCs_from_MAST_via_file_upload_form_2/hlsp_k2sff_k2_lightcurve_212347262-c06_kepler_v1_llc.fits\n",
      "/home/szabopal/PycharmProjects/eap/united/massAAP_atnezo/EVEREST_thirdtrial/hlsp_everest_k2_llc_212347262-c06_kepler_v2.0_lc.fits\n",
      "\n",
      "\n",
      "0.013953488372093023\n",
      "30\n",
      "../../GO6082/ktwo212585135-c06_lpd-targ.fits\n",
      "K2SFF_LCs_from_MAST_via_file_upload_form_2/hlsp_k2sff_k2_lightcurve_212585135-c06_kepler_v1_llc.fits\n",
      "/home/szabopal/PycharmProjects/eap/united/massAAP_atnezo/EVEREST_thirdtrial/hlsp_everest_k2_llc_212585135-c06_kepler_v2.0_lc.fits\n",
      "\n",
      "\n",
      "0.01441860465116279\n",
      "31\n",
      "../../GO6082/ktwo212598683-c06_lpd-targ.fits\n",
      "K2SFF_LCs_from_MAST_via_file_upload_form_2/hlsp_k2sff_k2_lightcurve_212598683-c06_kepler_v1_llc.fits\n",
      "/home/szabopal/PycharmProjects/eap/united/massAAP_atnezo/EVEREST_thirdtrial/hlsp_everest_k2_llc_212598683-c06_kepler_v2.0_lc.fits\n",
      "\n",
      "\n",
      "0.014883720930232559\n",
      "32\n",
      "../../GO6082/ktwo212634341-c06_lpd-targ.fits\n",
      "K2SFF_LCs_from_MAST_via_file_upload_form_2/hlsp_k2sff_k2_lightcurve_212634341-c06_kepler_v1_llc.fits\n",
      "/home/szabopal/PycharmProjects/eap/united/massAAP_atnezo/EVEREST_thirdtrial/hlsp_everest_k2_llc_212634341-c06_kepler_v2.0_lc.fits\n",
      "\n",
      "\n",
      "0.015348837209302326\n",
      "33\n",
      "../../GO6082/ktwo212788540-c06_lpd-targ.fits\n",
      "K2SFF_LCs_from_MAST_via_file_upload_form_2/hlsp_k2sff_k2_lightcurve_212788540-c06_kepler_v1_llc.fits\n",
      "/home/szabopal/PycharmProjects/eap/united/massAAP_atnezo/EVEREST_thirdtrial/hlsp_everest_k2_llc_212788540-c06_kepler_v2.0_lc.fits\n",
      "\n",
      "\n",
      "0.01581395348837209\n",
      "34\n",
      "../../GO6082/ktwo212692525-c06_lpd-targ.fits\n",
      "K2SFF_LCs_from_MAST_via_file_upload_form_2/hlsp_k2sff_k2_lightcurve_212692525-c06_kepler_v1_llc.fits\n",
      "/home/szabopal/PycharmProjects/eap/united/massAAP_atnezo/EVEREST_thirdtrial/hlsp_everest_k2_llc_212692525-c06_kepler_v2.0_lc.fits\n",
      "\n",
      "\n",
      "0.01627906976744186\n",
      "35\n",
      "../../GO6082/ktwo212447818-c06_lpd-targ.fits\n",
      "K2SFF_LCs_from_MAST_via_file_upload_form_2/hlsp_k2sff_k2_lightcurve_212447818-c06_kepler_v1_llc.fits\n",
      "/home/szabopal/PycharmProjects/eap/united/massAAP_atnezo/EVEREST_thirdtrial/hlsp_everest_k2_llc_212447818-c06_kepler_v2.0_lc.fits\n",
      "\n",
      "\n",
      "0.01674418604651163\n",
      "36\n",
      "../../GO6082/ktwo212676020-c06_lpd-targ.fits\n",
      "K2SFF_LCs_from_MAST_via_file_upload_form_2/hlsp_k2sff_k2_lightcurve_212676020-c06_kepler_v1_llc.fits\n",
      "/home/szabopal/PycharmProjects/eap/united/massAAP_atnezo/EVEREST_thirdtrial/hlsp_everest_k2_llc_212676020-c06_kepler_v2.0_lc.fits\n",
      "\n",
      "\n",
      "0.017209302325581394\n",
      "37\n",
      "../../GO6082/ktwo212809223-c06_lpd-targ.fits\n",
      "K2SFF_LCs_from_MAST_via_file_upload_form_2/hlsp_k2sff_k2_lightcurve_212809223-c06_kepler_v1_llc.fits\n",
      "/home/szabopal/PycharmProjects/eap/united/massAAP_atnezo/EVEREST_thirdtrial/hlsp_everest_k2_llc_212809223-c06_kepler_v2.0_lc.fits\n",
      "\n",
      "\n",
      "0.017674418604651163\n",
      "38\n",
      "../../GO6082/ktwo212597328-c06_lpd-targ.fits\n",
      "K2SFF_LCs_from_MAST_via_file_upload_form_2/hlsp_k2sff_k2_lightcurve_212597328-c06_kepler_v1_llc.fits\n",
      "/home/szabopal/PycharmProjects/eap/united/massAAP_atnezo/EVEREST_thirdtrial/hlsp_everest_k2_llc_212597328-c06_kepler_v2.0_lc.fits\n",
      "\n",
      "\n",
      "0.01813953488372093\n",
      "39\n",
      "../../GO6082/ktwo212821891-c06_lpd-targ.fits\n",
      "K2SFF_LCs_from_MAST_via_file_upload_form_2/hlsp_k2sff_k2_lightcurve_212821891-c06_kepler_v1_llc.fits\n",
      "/home/szabopal/PycharmProjects/eap/united/massAAP_atnezo/EVEREST_thirdtrial/hlsp_everest_k2_llc_212821891-c06_kepler_v2.0_lc.fits\n",
      "\n",
      "\n",
      "0.018604651162790697\n",
      "40\n",
      "../../GO6082/ktwo229228104-c06_lpd-targ.fits\n",
      "K2SFF_LCs_from_MAST_via_file_upload_form_2/hlsp_k2sff_k2_lightcurve_229228104-c06_kepler_v1_llc.fits\n",
      "/home/szabopal/PycharmProjects/eap/united/massAAP_atnezo/EVEREST_thirdtrial/hlsp_everest_k2_llc_229228104-c06_kepler_v2.0_lc.fits\n",
      "\n",
      "\n",
      "0.019069767441860466\n",
      "41\n",
      "../../GO6082/ktwo212802166-c06_lpd-targ.fits\n",
      "K2SFF_LCs_from_MAST_via_file_upload_form_2/hlsp_k2sff_k2_lightcurve_212802166-c06_kepler_v1_llc.fits\n",
      "/home/szabopal/PycharmProjects/eap/united/massAAP_atnezo/EVEREST_thirdtrial/hlsp_everest_k2_llc_212802166-c06_kepler_v2.0_lc.fits\n",
      "\n",
      "\n",
      "0.01953488372093023\n",
      "42\n",
      "../../GO6082/ktwo229228120-c06_lpd-targ.fits\n",
      "K2SFF_LCs_from_MAST_via_file_upload_form_2/hlsp_k2sff_k2_lightcurve_229228120-c06_kepler_v1_llc.fits\n",
      "/home/szabopal/PycharmProjects/eap/united/massAAP_atnezo/EVEREST_thirdtrial/hlsp_everest_k2_llc_229228120-c06_kepler_v2.0_lc.fits\n",
      "\n",
      "\n",
      "0.02\n",
      "43\n",
      "../../GO6082/ktwo229228121-c06_lpd-targ.fits\n",
      "K2SFF_LCs_from_MAST_via_file_upload_form_2/hlsp_k2sff_k2_lightcurve_229228121-c06_kepler_v1_llc.fits\n",
      "/home/szabopal/PycharmProjects/eap/united/massAAP_atnezo/EVEREST_thirdtrial/hlsp_everest_k2_llc_229228121-c06_kepler_v2.0_lc.fits\n",
      "\n",
      "\n",
      "0.020465116279069766\n",
      "44\n",
      "../../GO6082/ktwo212545143-c06_lpd-targ.fits\n",
      "K2SFF_LCs_from_MAST_via_file_upload_form_2/hlsp_k2sff_k2_lightcurve_212545143-c06_kepler_v1_llc.fits\n",
      "/home/szabopal/PycharmProjects/eap/united/massAAP_atnezo/EVEREST_thirdtrial/hlsp_everest_k2_llc_212545143-c06_kepler_v2.0_lc.fits\n",
      "\n",
      "\n",
      "0.020930232558139535\n",
      "45\n",
      "../../GO6082/ktwo212831202-c06_lpd-targ.fits\n",
      "K2SFF_LCs_from_MAST_via_file_upload_form_2/hlsp_k2sff_k2_lightcurve_212831202-c06_kepler_v1_llc.fits\n",
      "/home/szabopal/PycharmProjects/eap/united/massAAP_atnezo/EVEREST_thirdtrial/hlsp_everest_k2_llc_212831202-c06_kepler_v2.0_lc.fits\n",
      "\n",
      "\n",
      "0.021395348837209303\n",
      "46\n",
      "../../GO6082/ktwo212603999-c06_lpd-targ.fits\n",
      "K2SFF_LCs_from_MAST_via_file_upload_form_2/hlsp_k2sff_k2_lightcurve_212603999-c06_kepler_v1_llc.fits\n",
      "/home/szabopal/PycharmProjects/eap/united/massAAP_atnezo/EVEREST_thirdtrial/hlsp_everest_k2_llc_212603999-c06_kepler_v2.0_lc.fits\n",
      "\n",
      "\n",
      "0.02186046511627907\n",
      "47\n",
      "../../GO6082/ktwo212597399-c06_lpd-targ.fits\n",
      "K2SFF_LCs_from_MAST_via_file_upload_form_2/hlsp_k2sff_k2_lightcurve_212597399-c06_kepler_v1_llc.fits\n",
      "/home/szabopal/PycharmProjects/eap/united/massAAP_atnezo/EVEREST_thirdtrial/hlsp_everest_k2_llc_212597399-c06_kepler_v2.0_lc.fits\n",
      "\n",
      "\n",
      "0.022325581395348838\n",
      "48\n",
      "../../GO6082/ktwo212544488-c06_lpd-targ.fits\n",
      "K2SFF_LCs_from_MAST_via_file_upload_form_2/hlsp_k2sff_k2_lightcurve_212544488-c06_kepler_v1_llc.fits\n",
      "/home/szabopal/PycharmProjects/eap/united/massAAP_atnezo/EVEREST_thirdtrial/hlsp_everest_k2_llc_212544488-c06_kepler_v2.0_lc.fits\n",
      "\n",
      "\n",
      "0.022790697674418603\n",
      "49\n",
      "../../GO6082/ktwo212562649-c06_lpd-targ.fits\n",
      "K2SFF_LCs_from_MAST_via_file_upload_form_2/hlsp_k2sff_k2_lightcurve_212562649-c06_kepler_v1_llc.fits\n",
      "/home/szabopal/PycharmProjects/eap/united/massAAP_atnezo/EVEREST_thirdtrial/hlsp_everest_k2_llc_212562649-c06_kepler_v2.0_lc.fits\n",
      "\n",
      "\n"
     ]
    }
   ],
   "source": [
    "targetdict={}\n",
    "\n",
    "sap_maxpower_list=[]\n",
    "pdcsap_maxpower_list=[]\n",
    "k2sc_sap_maxpower_list=[]\n",
    "k2sc_pdcsap_maxpower_list=[]\n",
    "k2sff_maxpower_list=[]\n",
    "k2p2_maxpower_list=[]\n",
    "everest_maxpower_list=[]\n",
    "massaap_maxpower_list=[]\n",
    "\n",
    "kpmaglist=[]\n",
    "\n",
    "for index, each in enumerate(targetlist):\n",
    "    \n",
    "    if index<50:\n",
    "    #if True:\n",
    "    \n",
    "        print(index/len(targetlist))\n",
    "        print(index)\n",
    "        print(each)\n",
    "        \n",
    "        ID=each.split('/')[-1].split('-')[0][4:]\n",
    "        campaign=each.split('/')[-1].split('-')[1].split('_')[0][1:]\n",
    "\n",
    "        ourstar=star(ID,campaign)\n",
    "        \n",
    "        kpmaglist.append(ourstar.keplermag)\n",
    "        \n",
    "        if ourstar.sapflux is not False:\n",
    "            sap_fund_freq, sap_maxpower = maxfreq_maxpower(ourstar.saptime, ourstar.sapflux)\n",
    "            sap_maxpower_list.append(sap_maxpower)\n",
    "        else:\n",
    "            sap_maxpower_list.append('NODATA')\n",
    "            \n",
    "        if ourstar.pdcsapflux is not False:\n",
    "            pdcsap_fund_freq, pdcsap_maxpower = maxfreq_maxpower(ourstar.pdcsaptime, ourstar.pdcsapflux)\n",
    "            pdcsap_maxpower_list.append(pdcsap_maxpower)\n",
    "        else:\n",
    "            pdcsap_maxpower_list.append('NODATA')\n",
    "            \n",
    "        if ourstar.k2sff_fcor is not False:\n",
    "            k2sff_fund_freq, k2sff_maxpower = maxfreq_maxpower(ourstar.k2sff_time, ourstar.k2sff_fcor)\n",
    "            k2sff_maxpower_list.append(k2sff_maxpower)\n",
    "        else:\n",
    "            k2sff_maxpower_list.append('NODATA')\n",
    "            \n",
    "        if ourstar.k2sc_sapflux is not False:\n",
    "            k2sc_sap_fund_freq, k2sc_sap_maxpower = maxfreq_maxpower(ourstar.k2sc_saptime, ourstar.k2sc_sapflux)\n",
    "            k2sc_sap_maxpower_list.append(k2sc_sap_maxpower)\n",
    "        else:\n",
    "            k2sc_sap_maxpower_list.append(k2sc_sap_maxpower)\n",
    "            \n",
    "        if ourstar.k2sc_pdcsapflux is not False:\n",
    "            k2sc_pdcsap_fund_freq, k2sc_pdcsap_maxpower = maxfreq_maxpower(ourstar.k2sc_pdcsaptime, ourstar.pdcsapflux)\n",
    "            k2sc_pdcsap_maxpower_list.append(k2sc_pdcsap_maxpower)\n",
    "        else:\n",
    "            k2sc_pdcsap_maxpower_list.append('NODATA')\n",
    "            \n",
    "        if ourstar.k2p2flux is not False:\n",
    "            k2p2_fund_freq, k2p2_maxpower = maxfreq_maxpower(ourstar.k2p2bjd, ourstar.k2p2flux)\n",
    "            k2p2_maxpower_list.append(k2p2_maxpower)\n",
    "        else:\n",
    "            k2p2_maxpower_list.append('NODATA')\n",
    "            \n",
    "        if ourstar.everest_fcor is not False:\n",
    "            everest_fund_freq, everest_maxpower = maxfreq_maxpower(ourstar.everest_time, ourstar.everest_fcor)\n",
    "            everest_maxpower_list.append(everest_maxpower)\n",
    "        else:\n",
    "            everest_maxpower_list.append('NODATA')\n",
    "        \n",
    "        if ourstar.massaapflux is not False:\n",
    "            massaap_fund_freq, massaap_maxpower = maxfreq_maxpower(ourstar.massaapbjd, ourstar.massaapflux)\n",
    "            massaap_maxpower_list.append(massaap_maxpower)\n",
    "        else:\n",
    "            massaap_maxpower_list.append('NODATA')"
   ]
  },
  {
   "cell_type": "code",
   "execution_count": 153,
   "metadata": {},
   "outputs": [],
   "source": [
    "sap_massaap_maxpower_ratio=[]\n",
    "for index, each in enumerate(sap_maxpower_list):\n",
    "    try:\n",
    "        sap_massaap_maxpower_ratio.append(each/massaap_maxpower_list[index])\n",
    "    except TypeError:\n",
    "        sap_massaap_maxpower_ratio.append('NODATA')\n",
    "        \n",
    "pdcsap_massaap_maxpower_ratio=[]\n",
    "for index, each in enumerate(pdcsap_maxpower_list):\n",
    "    try:\n",
    "        pdcsap_massaap_maxpower_ratio.append(each/massaap_maxpower_list[index])\n",
    "    except TypeError:\n",
    "        pdcsap_massaap_maxpower_ratio.append('NODATA')\n",
    "\n",
    "k2sc_sap_massaap_maxpower_ratio=[]\n",
    "for index, each in enumerate(k2sc_sap_maxpower_list):\n",
    "    try:\n",
    "        k2sc_sap_massaap_maxpower_ratio.append(each/massaap_maxpower_list[index])\n",
    "    except TypeError:\n",
    "        k2sc_sap_massaap_maxpower_ratio.append('NODATA')\n",
    "\n",
    "k2sc_pdcsap_massaap_maxpower_ratio=[]\n",
    "for index, each in enumerate(k2sc_pdcsap_maxpower_list):\n",
    "    try:\n",
    "        k2sc_pdcsap_massaap_maxpower_ratio.append(each/massaap_maxpower_list[index])\n",
    "    except TypeError:\n",
    "        k2sc_pdcsap_massaap_maxpower_ratio.append('NODATA')\n",
    "\n",
    "\n",
    "k2sff_massaap_maxpower_ratio=[]\n",
    "for index, each in enumerate(k2sff_maxpower_list):\n",
    "    try:\n",
    "        k2sff_massaap_maxpower_ratio.append(each/massaap_maxpower_list[index])\n",
    "    except TypeError:\n",
    "        k2sff_massaap_maxpower_ratio.append('NODATA')\n",
    "        \n",
    "k2p2_massaap_maxpower_ratio=[]\n",
    "for index, each in enumerate(k2p2_maxpower_list):\n",
    "    try:\n",
    "        k2p2_massaap_maxpower_ratio.append(each/massaap_maxpower_list[index])\n",
    "    except TypeError:\n",
    "        k2p2_massaap_maxpower_ratio.append('NODATA')\n",
    "        \n",
    "everest_massaap_maxpower_ratio=[]\n",
    "for index, each in enumerate(everest_maxpower_list):\n",
    "    try:\n",
    "        everest_massaap_maxpower_ratio.append(each/massaap_maxpower_list[index])\n",
    "    except TypeError:\n",
    "        everest_massaap_maxpower_ratio.append('NODATA')\n",
    "        "
   ]
  },
  {
   "cell_type": "code",
   "execution_count": null,
   "metadata": {},
   "outputs": [],
   "source": []
  },
  {
   "cell_type": "code",
   "execution_count": 171,
   "metadata": {},
   "outputs": [
    {
     "data": {
      "text/plain": [
       "<matplotlib.collections.PathCollection at 0x7f075fdf39b0>"
      ]
     },
     "execution_count": 171,
     "metadata": {},
     "output_type": "execute_result"
    },
    {
     "data": {
      "image/png": "[encoded data removed]",
      "text/plain": [
       "<Figure size 432x288 with 1 Axes>"
      ]
     },
     "metadata": {
      "needs_background": "light"
     },
     "output_type": "display_data"
    },
    {
     "data": {
      "image/png": "[encoded data removed]",
      "text/plain": [
       "<Figure size 432x288 with 1 Axes>"
      ]
     },
     "metadata": {
      "needs_background": "light"
     },
     "output_type": "display_data"
    },
    {
     "data": {
      "image/png": "[encoded data removed]",
      "text/plain": [
       "<Figure size 432x288 with 1 Axes>"
      ]
     },
     "metadata": {
      "needs_background": "light"
     },
     "output_type": "display_data"
    },
    {
     "data": {
      "image/png": "[encoded data removed]",
      "text/plain": [
       "<Figure size 432x288 with 1 Axes>"
      ]
     },
     "metadata": {
      "needs_background": "light"
     },
     "output_type": "display_data"
    },
    {
     "data": {
      "image/png": "[encoded data removed]",
      "text/plain": [
       "<Figure size 432x288 with 1 Axes>"
      ]
     },
     "metadata": {
      "needs_background": "light"
     },
     "output_type": "display_data"
    },
    {
     "data": {
      "image/png": "[encoded data removed]",
      "text/plain": [
       "<Figure size 432x288 with 1 Axes>"
      ]
     },
     "metadata": {
      "needs_background": "light"
     },
     "output_type": "display_data"
    },
    {
     "data": {
      "image/png": "[encoded data removed]",
      "text/plain": [
       "<Figure size 432x288 with 1 Axes>"
      ]
     },
     "metadata": {
      "needs_background": "light"
     },
     "output_type": "display_data"
    }
   ],
   "source": [
    "plt.figure()\n",
    "plt.scatter([each for index, each in enumerate(kpmaglist) if \n",
    "             (np.dtype(sap_massaap_maxpower_ratio[index])=='float64')],\n",
    "            \n",
    "            [each for index, each in enumerate(sap_massaap_maxpower_ratio) if\n",
    "             np.dtype(each)=='float64'])\n",
    "\n",
    "plt.figure()\n",
    "plt.scatter([each for index, each in enumerate(kpmaglist) if \n",
    "             (np.dtype(pdcsap_massaap_maxpower_ratio[index])=='float64')],\n",
    "            \n",
    "            [each for index, each in enumerate(pdcsap_massaap_maxpower_ratio) if\n",
    "             np.dtype(each)=='float64'])\n",
    "\n",
    "plt.figure()\n",
    "plt.scatter([each for index, each in enumerate(kpmaglist) if \n",
    "             (np.dtype(k2sc_sap_massaap_maxpower_ratio[index])=='float64')],\n",
    "            \n",
    "            [each for index, each in enumerate(k2sc_sap_massaap_maxpower_ratio) if\n",
    "             np.dtype(each)=='float64'])\n",
    "\n",
    "plt.figure()\n",
    "plt.scatter([each for index, each in enumerate(kpmaglist) if \n",
    "             (np.dtype(k2sc_pdcsap_massaap_maxpower_ratio[index])=='float64')],\n",
    "            \n",
    "            [each for index, each in enumerate(k2sc_pdcsap_massaap_maxpower_ratio) if\n",
    "             np.dtype(each)=='float64'])\n",
    "\n",
    "plt.figure()\n",
    "plt.scatter([each for index, each in enumerate(kpmaglist) if \n",
    "             (np.dtype(k2sff_massaap_maxpower_ratio[index])=='float64')],\n",
    "            \n",
    "            [each for index, each in enumerate(k2sff_massaap_maxpower_ratio) if\n",
    "             np.dtype(each)=='float64'])\n",
    "\n",
    "plt.figure()\n",
    "plt.scatter([each for index, each in enumerate(kpmaglist) if \n",
    "             (np.dtype(k2p2_massaap_maxpower_ratio[index])=='float64')],\n",
    "            \n",
    "            [each for index, each in enumerate(k2p2_massaap_maxpower_ratio) if\n",
    "             np.dtype(each)=='float64'])\n",
    "\n",
    "plt.figure()\n",
    "plt.scatter([each for index, each in enumerate(kpmaglist) if \n",
    "             (np.dtype(everest_massaap_maxpower_ratio[index])=='float64')],\n",
    "            \n",
    "            [each for index, each in enumerate(everest_massaap_maxpower_ratio) if\n",
    "             np.dtype(each)=='float64'])\n"
   ]
  },
  {
   "cell_type": "code",
   "execution_count": 159,
   "metadata": {},
   "outputs": [
    {
     "data": {
      "text/plain": [
       "[]"
      ]
     },
     "execution_count": 159,
     "metadata": {},
     "output_type": "execute_result"
    }
   ],
   "source": [
    "[each for index, each in enumerate(kpmaglist) if \n",
    "             (type(sap_massaap_maxpower_ratio[index])==float)]"
   ]
  },
  {
   "cell_type": "code",
   "execution_count": 164,
   "metadata": {},
   "outputs": [
    {
     "name": "stdout",
     "output_type": "stream",
     "text": [
      "True\n",
      "True\n",
      "True\n",
      "True\n",
      "True\n",
      "True\n",
      "True\n",
      "True\n",
      "True\n",
      "True\n",
      "True\n",
      "True\n",
      "True\n",
      "True\n",
      "True\n",
      "True\n",
      "True\n",
      "True\n",
      "True\n",
      "True\n",
      "True\n",
      "True\n",
      "True\n",
      "True\n",
      "True\n",
      "True\n",
      "True\n",
      "True\n",
      "True\n",
      "True\n",
      "True\n",
      "True\n",
      "True\n",
      "True\n",
      "True\n",
      "True\n",
      "True\n",
      "True\n",
      "True\n",
      "True\n",
      "True\n",
      "True\n",
      "True\n",
      "True\n",
      "True\n",
      "True\n",
      "True\n",
      "True\n",
      "True\n",
      "True\n"
     ]
    }
   ],
   "source": [
    "for index, each in enumerate(kpmaglist):\n",
    "    print(np.dtype(sap_massaap_maxpower_ratio[index])=='float64')"
   ]
  },
  {
   "cell_type": "code",
   "execution_count": null,
   "metadata": {},
   "outputs": [],
   "source": []
  },
  {
   "cell_type": "code",
   "execution_count": 157,
   "metadata": {},
   "outputs": [
    {
     "data": {
      "text/plain": [
       "[0.9881242886403079,\n",
       " 0.6224503820248364,\n",
       " 0.8685660133513925,\n",
       " 0.715101301107609,\n",
       " 0.946336538970557,\n",
       " 0.7569709560799305,\n",
       " 0.8997951063241052,\n",
       " 0.7784545172596264,\n",
       " 0.5928689015357658,\n",
       " 0.9995323831703887,\n",
       " 0.9831942488559552,\n",
       " 0.9825669509304543,\n",
       " 0.7176152900974979,\n",
       " 0.9193593818088429,\n",
       " 0.8966320687778814,\n",
       " 0.7605815178114361,\n",
       " 0.9048086886421655,\n",
       " 1.0005084062821057,\n",
       " 0.9266186655203432,\n",
       " 0.980234244900104,\n",
       " 0.9578334026032246,\n",
       " 0.9600703453659789,\n",
       " 0.9585390609044113,\n",
       " 0.9382627206144625,\n",
       " 0.986951887400946,\n",
       " 0.9392989201953507,\n",
       " 0.6888834435435741,\n",
       " 0.9436419866660357,\n",
       " 0.9327017578231408,\n",
       " 0.5470777070219451,\n",
       " 0.9661651799181482,\n",
       " 0.9845103764274648,\n",
       " 1.2212382269144753,\n",
       " 1.0186880167471941,\n",
       " 0.9575380912467651,\n",
       " 0.8555128649344566,\n",
       " 0.5897029425842454,\n",
       " 0.9569452975238981,\n",
       " 1.0295485363478787,\n",
       " 0.9775700049057872,\n",
       " 0.8650527823718264,\n",
       " 0.7235007542433972,\n",
       " 0.5644856067671747,\n",
       " 0.6906708244050566,\n",
       " 0.7877480521427864,\n",
       " 0.9826718650427726,\n",
       " 1.0104707413647671,\n",
       " 0.9598417011685142,\n",
       " 0.8498578068822473,\n",
       " 0.939929550437982]"
      ]
     },
     "execution_count": 157,
     "metadata": {},
     "output_type": "execute_result"
    }
   ],
   "source": [
    "sap_massaap_maxpower_ratio"
   ]
  },
  {
   "cell_type": "code",
   "execution_count": null,
   "metadata": {},
   "outputs": [],
   "source": []
  },
  {
   "cell_type": "code",
   "execution_count": null,
   "metadata": {},
   "outputs": [],
   "source": []
  },
  {
   "cell_type": "code",
   "execution_count": 151,
   "metadata": {},
   "outputs": [
    {
     "ename": "ValueError",
     "evalue": "x and y must be the same size",
     "output_type": "error",
     "traceback": [
      "\u001b[0;31m---------------------------------------------------------------------------\u001b[0m",
      "\u001b[0;31mValueError\u001b[0m                                Traceback (most recent call last)",
      "\u001b[0;32m<ipython-input-151-bc0ff97d3ec5>\u001b[0m in \u001b[0;36m<module>\u001b[0;34m\u001b[0m\n\u001b[1;32m      1\u001b[0m \u001b[0mplt\u001b[0m\u001b[0;34m.\u001b[0m\u001b[0mfigure\u001b[0m\u001b[0;34m(\u001b[0m\u001b[0;34m)\u001b[0m\u001b[0;34m\u001b[0m\u001b[0;34m\u001b[0m\u001b[0m\n\u001b[0;32m----> 2\u001b[0;31m \u001b[0mplt\u001b[0m\u001b[0;34m.\u001b[0m\u001b[0mscatter\u001b[0m\u001b[0;34m(\u001b[0m\u001b[0mkpmaglist\u001b[0m\u001b[0;34m,\u001b[0m\u001b[0msap_massaap_maxpower_ratio\u001b[0m\u001b[0;34m)\u001b[0m\u001b[0;34m\u001b[0m\u001b[0;34m\u001b[0m\u001b[0m\n\u001b[0m\u001b[1;32m      3\u001b[0m plt.scatter([each for index, each in enumerate(kpmaglist) if \n\u001b[1;32m      4\u001b[0m              (type(sap_massaap_maxpower_ratio[index])==int)],\n\u001b[1;32m      5\u001b[0m \u001b[0;34m\u001b[0m\u001b[0m\n",
      "\u001b[0;32m~/PycharmProjects/venv36/lib/python3.6/site-packages/matplotlib/pyplot.py\u001b[0m in \u001b[0;36mscatter\u001b[0;34m(x, y, s, c, marker, cmap, norm, vmin, vmax, alpha, linewidths, verts, edgecolors, plotnonfinite, data, **kwargs)\u001b[0m\n\u001b[1;32m   2839\u001b[0m         \u001b[0mverts\u001b[0m\u001b[0;34m=\u001b[0m\u001b[0mverts\u001b[0m\u001b[0;34m,\u001b[0m \u001b[0medgecolors\u001b[0m\u001b[0;34m=\u001b[0m\u001b[0medgecolors\u001b[0m\u001b[0;34m,\u001b[0m\u001b[0;34m\u001b[0m\u001b[0;34m\u001b[0m\u001b[0m\n\u001b[1;32m   2840\u001b[0m         plotnonfinite=plotnonfinite, **({\"data\": data} if data is not\n\u001b[0;32m-> 2841\u001b[0;31m         None else {}), **kwargs)\n\u001b[0m\u001b[1;32m   2842\u001b[0m     \u001b[0msci\u001b[0m\u001b[0;34m(\u001b[0m\u001b[0m__ret\u001b[0m\u001b[0;34m)\u001b[0m\u001b[0;34m\u001b[0m\u001b[0;34m\u001b[0m\u001b[0m\n\u001b[1;32m   2843\u001b[0m     \u001b[0;32mreturn\u001b[0m \u001b[0m__ret\u001b[0m\u001b[0;34m\u001b[0m\u001b[0;34m\u001b[0m\u001b[0m\n",
      "\u001b[0;32m~/PycharmProjects/venv36/lib/python3.6/site-packages/matplotlib/__init__.py\u001b[0m in \u001b[0;36minner\u001b[0;34m(ax, data, *args, **kwargs)\u001b[0m\n\u001b[1;32m   1587\u001b[0m     \u001b[0;32mdef\u001b[0m \u001b[0minner\u001b[0m\u001b[0;34m(\u001b[0m\u001b[0max\u001b[0m\u001b[0;34m,\u001b[0m \u001b[0;34m*\u001b[0m\u001b[0margs\u001b[0m\u001b[0;34m,\u001b[0m \u001b[0mdata\u001b[0m\u001b[0;34m=\u001b[0m\u001b[0;32mNone\u001b[0m\u001b[0;34m,\u001b[0m \u001b[0;34m**\u001b[0m\u001b[0mkwargs\u001b[0m\u001b[0;34m)\u001b[0m\u001b[0;34m:\u001b[0m\u001b[0;34m\u001b[0m\u001b[0;34m\u001b[0m\u001b[0m\n\u001b[1;32m   1588\u001b[0m         \u001b[0;32mif\u001b[0m \u001b[0mdata\u001b[0m \u001b[0;32mis\u001b[0m \u001b[0;32mNone\u001b[0m\u001b[0;34m:\u001b[0m\u001b[0;34m\u001b[0m\u001b[0;34m\u001b[0m\u001b[0m\n\u001b[0;32m-> 1589\u001b[0;31m             \u001b[0;32mreturn\u001b[0m \u001b[0mfunc\u001b[0m\u001b[0;34m(\u001b[0m\u001b[0max\u001b[0m\u001b[0;34m,\u001b[0m \u001b[0;34m*\u001b[0m\u001b[0mmap\u001b[0m\u001b[0;34m(\u001b[0m\u001b[0msanitize_sequence\u001b[0m\u001b[0;34m,\u001b[0m \u001b[0margs\u001b[0m\u001b[0;34m)\u001b[0m\u001b[0;34m,\u001b[0m \u001b[0;34m**\u001b[0m\u001b[0mkwargs\u001b[0m\u001b[0;34m)\u001b[0m\u001b[0;34m\u001b[0m\u001b[0;34m\u001b[0m\u001b[0m\n\u001b[0m\u001b[1;32m   1590\u001b[0m \u001b[0;34m\u001b[0m\u001b[0m\n\u001b[1;32m   1591\u001b[0m         \u001b[0mbound\u001b[0m \u001b[0;34m=\u001b[0m \u001b[0mnew_sig\u001b[0m\u001b[0;34m.\u001b[0m\u001b[0mbind\u001b[0m\u001b[0;34m(\u001b[0m\u001b[0max\u001b[0m\u001b[0;34m,\u001b[0m \u001b[0;34m*\u001b[0m\u001b[0margs\u001b[0m\u001b[0;34m,\u001b[0m \u001b[0;34m**\u001b[0m\u001b[0mkwargs\u001b[0m\u001b[0;34m)\u001b[0m\u001b[0;34m\u001b[0m\u001b[0;34m\u001b[0m\u001b[0m\n",
      "\u001b[0;32m~/PycharmProjects/venv36/lib/python3.6/site-packages/matplotlib/axes/_axes.py\u001b[0m in \u001b[0;36mscatter\u001b[0;34m(self, x, y, s, c, marker, cmap, norm, vmin, vmax, alpha, linewidths, verts, edgecolors, plotnonfinite, **kwargs)\u001b[0m\n\u001b[1;32m   4434\u001b[0m         \u001b[0my\u001b[0m \u001b[0;34m=\u001b[0m \u001b[0mnp\u001b[0m\u001b[0;34m.\u001b[0m\u001b[0mma\u001b[0m\u001b[0;34m.\u001b[0m\u001b[0mravel\u001b[0m\u001b[0;34m(\u001b[0m\u001b[0my\u001b[0m\u001b[0;34m)\u001b[0m\u001b[0;34m\u001b[0m\u001b[0;34m\u001b[0m\u001b[0m\n\u001b[1;32m   4435\u001b[0m         \u001b[0;32mif\u001b[0m \u001b[0mx\u001b[0m\u001b[0;34m.\u001b[0m\u001b[0msize\u001b[0m \u001b[0;34m!=\u001b[0m \u001b[0my\u001b[0m\u001b[0;34m.\u001b[0m\u001b[0msize\u001b[0m\u001b[0;34m:\u001b[0m\u001b[0;34m\u001b[0m\u001b[0;34m\u001b[0m\u001b[0m\n\u001b[0;32m-> 4436\u001b[0;31m             \u001b[0;32mraise\u001b[0m \u001b[0mValueError\u001b[0m\u001b[0;34m(\u001b[0m\u001b[0;34m\"x and y must be the same size\"\u001b[0m\u001b[0;34m)\u001b[0m\u001b[0;34m\u001b[0m\u001b[0;34m\u001b[0m\u001b[0m\n\u001b[0m\u001b[1;32m   4437\u001b[0m \u001b[0;34m\u001b[0m\u001b[0m\n\u001b[1;32m   4438\u001b[0m         \u001b[0;32mif\u001b[0m \u001b[0ms\u001b[0m \u001b[0;32mis\u001b[0m \u001b[0;32mNone\u001b[0m\u001b[0;34m:\u001b[0m\u001b[0;34m\u001b[0m\u001b[0;34m\u001b[0m\u001b[0m\n",
      "\u001b[0;31mValueError\u001b[0m: x and y must be the same size"
     ]
    },
    {
     "data": {
      "image/png": "[encoded data removed]",
      "text/plain": [
       "<Figure size 432x288 with 1 Axes>"
      ]
     },
     "metadata": {
      "needs_background": "light"
     },
     "output_type": "display_data"
    }
   ],
   "source": [
    "plt.figure()\n",
    "plt.scatter(kpmaglist,sap_massaap_maxpower_ratio)\n",
    "plt.scatter([each for index, each in enumerate(kpmaglist) if \n",
    "             (type(sap_massaap_maxpower_ratio[index])==int)],\n",
    "            \n",
    "            [each for index, each in enumerate(sap_massaap_maxpower_ratio) if\n",
    "             (type(kpmaglist[index])==int)])\n",
    "\n",
    "\n",
    "plt.figure()\n",
    "plt.scatter(kpmaglist,pdcsap_massaap_maxpower_ratio)\n",
    "plt.figure()\n",
    "plt.scatter(kpmaglist,k2sc_sap_massaap_maxpower_ratio)\n",
    "plt.figure()\n",
    "plt.scatter(kpmaglist,k2sc_pdcsap_massaap_maxpower_ratio)\n",
    "plt.figure()\n",
    "plt.scatter(kpmaglist,k2sff_massaap_maxpower_ratio)\n",
    "plt.figure()\n",
    "plt.scatter(kpmaglist,k2p2_massaap_maxpower_ratio)\n",
    "plt.figure()\n",
    "plt.scatter(kpmaglist,everest_massaap_maxpower_ratio)"
   ]
  },
  {
   "cell_type": "code",
   "execution_count": null,
   "metadata": {},
   "outputs": [],
   "source": []
  },
  {
   "cell_type": "code",
   "execution_count": null,
   "metadata": {},
   "outputs": [],
   "source": []
  },
  {
   "cell_type": "code",
   "execution_count": null,
   "metadata": {},
   "outputs": [],
   "source": []
  },
  {
   "cell_type": "code",
   "execution_count": null,
   "metadata": {},
   "outputs": [],
   "source": []
  },
  {
   "cell_type": "code",
   "execution_count": null,
   "metadata": {},
   "outputs": [],
   "source": []
  },
  {
   "cell_type": "code",
   "execution_count": null,
   "metadata": {},
   "outputs": [],
   "source": []
  },
  {
   "cell_type": "code",
   "execution_count": 88,
   "metadata": {},
   "outputs": [
    {
     "data": {
      "text/plain": [
       "array([2384.83104431, 2384.85147667, 2384.87190894, ..., 2463.30967793,\n",
       "       2463.33010978, 2463.35054164])"
      ]
     },
     "execution_count": 88,
     "metadata": {},
     "output_type": "execute_result"
    }
   ],
   "source": [
    "ourstar.k2sff_time"
   ]
  },
  {
   "cell_type": "code",
   "execution_count": 26,
   "metadata": {},
   "outputs": [
    {
     "data": {
      "text/plain": [
       "array([2384.48369574, 2384.50412811, 2384.52456029, ..., 2463.30967793,\n",
       "       2463.33010978, 2463.35054164])"
      ]
     },
     "execution_count": 26,
     "metadata": {},
     "output_type": "execute_result"
    }
   ],
   "source": [
    "ourstar.saptime"
   ]
  },
  {
   "cell_type": "code",
   "execution_count": 27,
   "metadata": {},
   "outputs": [
    {
     "data": {
      "text/plain": [
       "array([423824.9 , 448112.16, 448150.7 , ..., 416707.34, 400536.25,\n",
       "       387125.38], dtype=float32)"
      ]
     },
     "execution_count": 27,
     "metadata": {},
     "output_type": "execute_result"
    }
   ],
   "source": [
    "ourstar.sapflux"
   ]
  },
  {
   "cell_type": "code",
   "execution_count": 28,
   "metadata": {},
   "outputs": [],
   "source": [
    "from astropy.stats import LombScargle"
   ]
  },
  {
   "cell_type": "code",
   "execution_count": 29,
   "metadata": {},
   "outputs": [
    {
     "name": "stdout",
     "output_type": "stream",
     "text": [
      "/home/szabopal/PycharmProjects/eap/united/massAAP_atnezo\r\n"
     ]
    }
   ],
   "source": [
    "!pwd"
   ]
  },
  {
   "cell_type": "code",
   "execution_count": null,
   "metadata": {},
   "outputs": [],
   "source": []
  },
  {
   "cell_type": "code",
   "execution_count": 30,
   "metadata": {},
   "outputs": [],
   "source": [
    "import sys\n",
    "terminalpythonpath=['', '/home/szabopal/PycharmProjects/venv36/lib/python36.zip', '/home/szabopal/PycharmProjects/venv36/lib/python3.6', '/home/szabopal/PycharmProjects/venv36/lib/python3.6/lib-dynload', '/usr/lib/python3.6', '/home/szabopal/PycharmProjects/venv36/lib/python3.6/site-packages']\n",
    "[sys.path.append(each) for each in terminalpythonpath]\n",
    "import matplotlib.pyplot as plt"
   ]
  },
  {
   "cell_type": "code",
   "execution_count": 54,
   "metadata": {},
   "outputs": [
    {
     "name": "stdout",
     "output_type": "stream",
     "text": [
      "1.6267925835097712\n",
      "0.7038520826726467\n"
     ]
    }
   ],
   "source": [
    "frequency, power = LombScargle(ourstar.saptime, ourstar.sapflux).autopower()\n",
    "#plt.plot(frequency, power)       \n",
    "nyquist = len(ourstar.saptime)/(2*(max(ourstar.saptime)-min(ourstar.saptime)))\n",
    "#plt.xlim([0,nyquist])\n",
    "best_frequency = frequency[np.argmax(power[frequency<nyquist])]\n",
    "print(best_frequency)\n",
    "maxpower=np.max(power[frequency<nyquist])\n",
    "print(maxpower)"
   ]
  },
  {
   "cell_type": "code",
   "execution_count": null,
   "metadata": {},
   "outputs": [],
   "source": []
  },
  {
   "cell_type": "code",
   "execution_count": 43,
   "metadata": {},
   "outputs": [],
   "source": []
  },
  {
   "cell_type": "code",
   "execution_count": null,
   "metadata": {},
   "outputs": [],
   "source": []
  }
 ],
 "metadata": {
  "kernelspec": {
   "display_name": "Python 3",
   "language": "python",
   "name": "python3"
  },
  "language_info": {
   "codemirror_mode": {
    "name": "ipython",
    "version": 3
   },
   "file_extension": ".py",
   "mimetype": "text/x-python",
   "name": "python",
   "nbconvert_exporter": "python",
   "pygments_lexer": "ipython3",
   "version": "3.6.8"
  }
 },
 "nbformat": 4,
 "nbformat_minor": 2
}
